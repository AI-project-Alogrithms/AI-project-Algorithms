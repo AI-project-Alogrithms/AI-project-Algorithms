{
  "nbformat": 4,
  "nbformat_minor": 0,
  "metadata": {
    "colab": {
      "provenance": []
    },
    "kernelspec": {
      "name": "python3",
      "display_name": "Python 3"
    },
    "language_info": {
      "name": "python"
    }
  },
  "cells": [
    {
      "cell_type": "markdown",
      "source": [
        "## Building a GPT\n",
        "\n",
        "Companion notebook to the [Zero To Hero](https://karpathy.ai/zero-to-hero.html) video on GPT."
      ],
      "metadata": {
        "id": "wJpXpmjEYC_T"
      }
    },
    {
      "cell_type": "code",
      "execution_count": 1,
      "metadata": {
        "colab": {
          "base_uri": "https://localhost:8080/"
        },
        "id": "h5hjCcLDr2WC",
        "outputId": "0245f3b1-d983-4d6d-d7ab-fa20e7fb699d"
      },
      "outputs": [
        {
          "output_type": "stream",
          "name": "stdout",
          "text": [
            "--2024-06-03 05:25:10--  https://raw.githubusercontent.com/karpathy/char-rnn/master/data/tinyshakespeare/input.txt\n",
            "Resolving raw.githubusercontent.com (raw.githubusercontent.com)... 185.199.108.133, 185.199.109.133, 185.199.111.133, ...\n",
            "Connecting to raw.githubusercontent.com (raw.githubusercontent.com)|185.199.108.133|:443... connected.\n",
            "HTTP request sent, awaiting response... 200 OK\n",
            "Length: 1115394 (1.1M) [text/plain]\n",
            "Saving to: ‘input.txt’\n",
            "\n",
            "\rinput.txt             0%[                    ]       0  --.-KB/s               \rinput.txt           100%[===================>]   1.06M  --.-KB/s    in 0.01s   \n",
            "\n",
            "2024-06-03 05:25:10 (101 MB/s) - ‘input.txt’ saved [1115394/1115394]\n",
            "\n"
          ]
        }
      ],
      "source": [
        "# We always start with a dataset to train on. Let's download the tiny shakespeare dataset\n",
        "# tiny shakespeare 데이터셋 다운로드. 모델 학습에 사용\n",
        "!wget https://raw.githubusercontent.com/karpathy/char-rnn/master/data/tinyshakespeare/input.txt"
      ]
    },
    {
      "cell_type": "code",
      "source": [
        "# 텍스트 데이터 읽기\n",
        "with open('input.txt', 'r', encoding='utf-8') as f:\n",
        "    text = f.read()"
      ],
      "metadata": {
        "id": "O6medjfRsLD9"
      },
      "execution_count": 2,
      "outputs": []
    },
    {
      "cell_type": "code",
      "source": [
        "# 데이터 셋의 총 문자 길이\n",
        "print(\"length of dataset in characters: \", len(text))"
      ],
      "metadata": {
        "colab": {
          "base_uri": "https://localhost:8080/"
        },
        "id": "6xWI_VyAsN8F",
        "outputId": "e98dad51-e4c3-4046-d935-dfec41fb7d6e"
      },
      "execution_count": 3,
      "outputs": [
        {
          "output_type": "stream",
          "name": "stdout",
          "text": [
            "length of dataset in characters:  1115394\n"
          ]
        }
      ]
    },
    {
      "cell_type": "code",
      "source": [
        "# 처음 1000개의 문자 출력\n",
        "print(text[:1000])"
      ],
      "metadata": {
        "colab": {
          "base_uri": "https://localhost:8080/"
        },
        "id": "2c5V0FvqseE0",
        "outputId": "a3e82d31-46eb-4255-b257-ca7186ef0cbd"
      },
      "execution_count": 5,
      "outputs": [
        {
          "output_type": "stream",
          "name": "stdout",
          "text": [
            "First Citizen:\n",
            "Before we proceed any further, hear me speak.\n",
            "\n",
            "All:\n",
            "Speak, speak.\n",
            "\n",
            "First Citizen:\n",
            "You are all resolved rather to die than to famish?\n",
            "\n",
            "All:\n",
            "Resolved. resolved.\n",
            "\n",
            "First Citizen:\n",
            "First, you know Caius Marcius is chief enemy to the people.\n",
            "\n",
            "All:\n",
            "We know't, we know't.\n",
            "\n",
            "First Citizen:\n",
            "Let us kill him, and we'll have corn at our own price.\n",
            "Is't a verdict?\n",
            "\n",
            "All:\n",
            "No more talking on't; let it be done: away, away!\n",
            "\n",
            "Second Citizen:\n",
            "One word, good citizens.\n",
            "\n",
            "First Citizen:\n",
            "We are accounted poor citizens, the patricians good.\n",
            "What authority surfeits on would relieve us: if they\n",
            "would yield us but the superfluity, while it were\n",
            "wholesome, we might guess they relieved us humanely;\n",
            "but they think we are too dear: the leanness that\n",
            "afflicts us, the object of our misery, is as an\n",
            "inventory to particularise their abundance; our\n",
            "sufferance is a gain to them Let us revenge this with\n",
            "our pikes, ere we become rakes: for the gods know I\n",
            "speak this in hunger for bread, not in thirst for revenge.\n",
            "\n",
            "\n"
          ]
        }
      ]
    },
    {
      "cell_type": "markdown",
      "source": [
        "- 고유 문자 확인"
      ],
      "metadata": {
        "id": "B06NNGdxk0j4"
      }
    },
    {
      "cell_type": "code",
      "source": [
        "# 텍스트에 포함된 모든 고유 문자를 정렬하여 리스트로 만듦\n",
        "chars = sorted(list(set(text)))\n",
        "vocab_size = len(chars)\n",
        "print(''.join(chars)) # 고유 문자들 출력\n",
        "print(vocab_size) # 고유 문자 수"
      ],
      "metadata": {
        "colab": {
          "base_uri": "https://localhost:8080/"
        },
        "id": "0e-Rbyr8sfM8",
        "outputId": "5134ffa1-55a9-4162-8360-c55a3194545a"
      },
      "execution_count": 6,
      "outputs": [
        {
          "output_type": "stream",
          "name": "stdout",
          "text": [
            "\n",
            " !$&',-.3:;?ABCDEFGHIJKLMNOPQRSTUVWXYZabcdefghijklmnopqrstuvwxyz\n",
            "65\n"
          ]
        }
      ]
    },
    {
      "cell_type": "markdown",
      "source": [
        "- 문자-정수 매핑 생성"
      ],
      "metadata": {
        "id": "LH-fpFs9lBHQ"
      }
    },
    {
      "cell_type": "code",
      "source": [
        "# 문자를 정수로, 정수를 문자로 매핑하는 딕셔너리 생성\n",
        "stoi = { ch:i for i,ch in enumerate(chars) }\n",
        "\n",
        "itos = { i:ch for i,ch in enumerate(chars) }\n",
        "# display(stoi, itos)\n",
        "# 문자열을 정수 리스트로 인코딩하는 함수와 그 반대의 디코딩 함수를 정의\n",
        "encode = lambda s: [stoi[c] for c in s]\n",
        "decode = lambda l: ''.join([itos[i] for i in l])\n",
        "\n",
        "print(encode(\"hii there\"))\n",
        "print(decode(encode(\"hii there\")))"
      ],
      "metadata": {
        "colab": {
          "base_uri": "https://localhost:8080/"
        },
        "id": "Yw1LKNCgwjj1",
        "outputId": "ce4df467-1cb5-4d97-b76e-ab56cbd5a3d4"
      },
      "execution_count": 8,
      "outputs": [
        {
          "output_type": "stream",
          "name": "stdout",
          "text": [
            "[46, 47, 47, 1, 58, 46, 43, 56, 43]\n",
            "hii there\n"
          ]
        }
      ]
    },
    {
      "cell_type": "markdown",
      "source": [
        "- 전체 텍스트 인코딩 및 텐서 저장"
      ],
      "metadata": {
        "id": "0r5EkY82lz2H"
      }
    },
    {
      "cell_type": "code",
      "source": [
        "# let's now encode the entire text dataset and store it into a torch.Tensor\n",
        "import torch # we use PyTorch: https://pytorch.org\n",
        "# 전체 텍스트를 인코딩해서 pytorch 텐서로 저장\n",
        "data = torch.tensor(encode(text), dtype=torch.long)\n",
        "# 텐서 형태, 데이터 타입 출력\n",
        "print(data.shape, data.dtype)\n",
        "print(data[:1000]) # the 1000 characters we looked at earier will to the GPT look like this"
      ],
      "metadata": {
        "colab": {
          "base_uri": "https://localhost:8080/"
        },
        "id": "YJb0OXPwzvqg",
        "outputId": "5108a2f2-de34-4cb0-decd-ef963d7ee09a"
      },
      "execution_count": 9,
      "outputs": [
        {
          "output_type": "stream",
          "name": "stdout",
          "text": [
            "torch.Size([1115394]) torch.int64\n",
            "tensor([18, 47, 56, 57, 58,  1, 15, 47, 58, 47, 64, 43, 52, 10,  0, 14, 43, 44,\n",
            "        53, 56, 43,  1, 61, 43,  1, 54, 56, 53, 41, 43, 43, 42,  1, 39, 52, 63,\n",
            "         1, 44, 59, 56, 58, 46, 43, 56,  6,  1, 46, 43, 39, 56,  1, 51, 43,  1,\n",
            "        57, 54, 43, 39, 49,  8,  0,  0, 13, 50, 50, 10,  0, 31, 54, 43, 39, 49,\n",
            "         6,  1, 57, 54, 43, 39, 49,  8,  0,  0, 18, 47, 56, 57, 58,  1, 15, 47,\n",
            "        58, 47, 64, 43, 52, 10,  0, 37, 53, 59,  1, 39, 56, 43,  1, 39, 50, 50,\n",
            "         1, 56, 43, 57, 53, 50, 60, 43, 42,  1, 56, 39, 58, 46, 43, 56,  1, 58,\n",
            "        53,  1, 42, 47, 43,  1, 58, 46, 39, 52,  1, 58, 53,  1, 44, 39, 51, 47,\n",
            "        57, 46, 12,  0,  0, 13, 50, 50, 10,  0, 30, 43, 57, 53, 50, 60, 43, 42,\n",
            "         8,  1, 56, 43, 57, 53, 50, 60, 43, 42,  8,  0,  0, 18, 47, 56, 57, 58,\n",
            "         1, 15, 47, 58, 47, 64, 43, 52, 10,  0, 18, 47, 56, 57, 58,  6,  1, 63,\n",
            "        53, 59,  1, 49, 52, 53, 61,  1, 15, 39, 47, 59, 57,  1, 25, 39, 56, 41,\n",
            "        47, 59, 57,  1, 47, 57,  1, 41, 46, 47, 43, 44,  1, 43, 52, 43, 51, 63,\n",
            "         1, 58, 53,  1, 58, 46, 43,  1, 54, 43, 53, 54, 50, 43,  8,  0,  0, 13,\n",
            "        50, 50, 10,  0, 35, 43,  1, 49, 52, 53, 61,  5, 58,  6,  1, 61, 43,  1,\n",
            "        49, 52, 53, 61,  5, 58,  8,  0,  0, 18, 47, 56, 57, 58,  1, 15, 47, 58,\n",
            "        47, 64, 43, 52, 10,  0, 24, 43, 58,  1, 59, 57,  1, 49, 47, 50, 50,  1,\n",
            "        46, 47, 51,  6,  1, 39, 52, 42,  1, 61, 43,  5, 50, 50,  1, 46, 39, 60,\n",
            "        43,  1, 41, 53, 56, 52,  1, 39, 58,  1, 53, 59, 56,  1, 53, 61, 52,  1,\n",
            "        54, 56, 47, 41, 43,  8,  0, 21, 57,  5, 58,  1, 39,  1, 60, 43, 56, 42,\n",
            "        47, 41, 58, 12,  0,  0, 13, 50, 50, 10,  0, 26, 53,  1, 51, 53, 56, 43,\n",
            "         1, 58, 39, 50, 49, 47, 52, 45,  1, 53, 52,  5, 58, 11,  1, 50, 43, 58,\n",
            "         1, 47, 58,  1, 40, 43,  1, 42, 53, 52, 43, 10,  1, 39, 61, 39, 63,  6,\n",
            "         1, 39, 61, 39, 63,  2,  0,  0, 31, 43, 41, 53, 52, 42,  1, 15, 47, 58,\n",
            "        47, 64, 43, 52, 10,  0, 27, 52, 43,  1, 61, 53, 56, 42,  6,  1, 45, 53,\n",
            "        53, 42,  1, 41, 47, 58, 47, 64, 43, 52, 57,  8,  0,  0, 18, 47, 56, 57,\n",
            "        58,  1, 15, 47, 58, 47, 64, 43, 52, 10,  0, 35, 43,  1, 39, 56, 43,  1,\n",
            "        39, 41, 41, 53, 59, 52, 58, 43, 42,  1, 54, 53, 53, 56,  1, 41, 47, 58,\n",
            "        47, 64, 43, 52, 57,  6,  1, 58, 46, 43,  1, 54, 39, 58, 56, 47, 41, 47,\n",
            "        39, 52, 57,  1, 45, 53, 53, 42,  8,  0, 35, 46, 39, 58,  1, 39, 59, 58,\n",
            "        46, 53, 56, 47, 58, 63,  1, 57, 59, 56, 44, 43, 47, 58, 57,  1, 53, 52,\n",
            "         1, 61, 53, 59, 50, 42,  1, 56, 43, 50, 47, 43, 60, 43,  1, 59, 57, 10,\n",
            "         1, 47, 44,  1, 58, 46, 43, 63,  0, 61, 53, 59, 50, 42,  1, 63, 47, 43,\n",
            "        50, 42,  1, 59, 57,  1, 40, 59, 58,  1, 58, 46, 43,  1, 57, 59, 54, 43,\n",
            "        56, 44, 50, 59, 47, 58, 63,  6,  1, 61, 46, 47, 50, 43,  1, 47, 58,  1,\n",
            "        61, 43, 56, 43,  0, 61, 46, 53, 50, 43, 57, 53, 51, 43,  6,  1, 61, 43,\n",
            "         1, 51, 47, 45, 46, 58,  1, 45, 59, 43, 57, 57,  1, 58, 46, 43, 63,  1,\n",
            "        56, 43, 50, 47, 43, 60, 43, 42,  1, 59, 57,  1, 46, 59, 51, 39, 52, 43,\n",
            "        50, 63, 11,  0, 40, 59, 58,  1, 58, 46, 43, 63,  1, 58, 46, 47, 52, 49,\n",
            "         1, 61, 43,  1, 39, 56, 43,  1, 58, 53, 53,  1, 42, 43, 39, 56, 10,  1,\n",
            "        58, 46, 43,  1, 50, 43, 39, 52, 52, 43, 57, 57,  1, 58, 46, 39, 58,  0,\n",
            "        39, 44, 44, 50, 47, 41, 58, 57,  1, 59, 57,  6,  1, 58, 46, 43,  1, 53,\n",
            "        40, 48, 43, 41, 58,  1, 53, 44,  1, 53, 59, 56,  1, 51, 47, 57, 43, 56,\n",
            "        63,  6,  1, 47, 57,  1, 39, 57,  1, 39, 52,  0, 47, 52, 60, 43, 52, 58,\n",
            "        53, 56, 63,  1, 58, 53,  1, 54, 39, 56, 58, 47, 41, 59, 50, 39, 56, 47,\n",
            "        57, 43,  1, 58, 46, 43, 47, 56,  1, 39, 40, 59, 52, 42, 39, 52, 41, 43,\n",
            "        11,  1, 53, 59, 56,  0, 57, 59, 44, 44, 43, 56, 39, 52, 41, 43,  1, 47,\n",
            "        57,  1, 39,  1, 45, 39, 47, 52,  1, 58, 53,  1, 58, 46, 43, 51,  1, 24,\n",
            "        43, 58,  1, 59, 57,  1, 56, 43, 60, 43, 52, 45, 43,  1, 58, 46, 47, 57,\n",
            "         1, 61, 47, 58, 46,  0, 53, 59, 56,  1, 54, 47, 49, 43, 57,  6,  1, 43,\n",
            "        56, 43,  1, 61, 43,  1, 40, 43, 41, 53, 51, 43,  1, 56, 39, 49, 43, 57,\n",
            "        10,  1, 44, 53, 56,  1, 58, 46, 43,  1, 45, 53, 42, 57,  1, 49, 52, 53,\n",
            "        61,  1, 21,  0, 57, 54, 43, 39, 49,  1, 58, 46, 47, 57,  1, 47, 52,  1,\n",
            "        46, 59, 52, 45, 43, 56,  1, 44, 53, 56,  1, 40, 56, 43, 39, 42,  6,  1,\n",
            "        52, 53, 58,  1, 47, 52,  1, 58, 46, 47, 56, 57, 58,  1, 44, 53, 56,  1,\n",
            "        56, 43, 60, 43, 52, 45, 43,  8,  0,  0])\n"
          ]
        }
      ]
    },
    {
      "cell_type": "markdown",
      "source": [
        "- 데이터 train.val set으로 분리"
      ],
      "metadata": {
        "id": "aJjkMEjSmFgP"
      }
    },
    {
      "cell_type": "code",
      "source": [
        "# Let's now split up the data into train and validation sets\n",
        "n = int(0.9*len(data)) # first 90% will be train, rest val\n",
        "train_data = data[:n] # 90% trainset data\n",
        "val_data = data[n:] # 나머지 10% validation set"
      ],
      "metadata": {
        "id": "f_WIXqxz0lU5"
      },
      "execution_count": 10,
      "outputs": []
    },
    {
      "cell_type": "markdown",
      "source": [
        "- 모델 입력 및 타겟 데이터 준비\n",
        " - block_size: 모델이 예측을 수행할 때 사용하는 컨텍스트 (or 입력 시퀀스)의 길이\n",
        " 즉, 얼마나 많은 이전 문자를 보고 다음 문자를 예측할 지 결정\n",
        " - x: 특정 시점에서의 입력 시퀀스\n",
        " - y: x의 각 시퀀스에 대해 다음에 오는 문자가 타겟\n",
        "-> 시퀀스 데이터에서 패턴 학습하는데 효과적"
      ],
      "metadata": {
        "id": "XK5sOkHQmv0k"
      }
    },
    {
      "cell_type": "code",
      "source": [
        "block_size = 8\n",
        "print(train_data[:block_size])\n",
        "print(train_data[1:block_size+1])"
      ],
      "metadata": {
        "colab": {
          "base_uri": "https://localhost:8080/"
        },
        "id": "TD5Bj8Y6IAD4",
        "outputId": "fc8ced06-e2a1-44d8-a28c-e95b67187edf"
      },
      "execution_count": 15,
      "outputs": [
        {
          "output_type": "stream",
          "name": "stdout",
          "text": [
            "tensor([18, 47, 56, 57, 58,  1, 15, 47])\n",
            "tensor([47, 56, 57, 58,  1, 15, 47, 58])\n"
          ]
        }
      ]
    },
    {
      "cell_type": "code",
      "source": [
        "# 각 타임스텝에서의 컨텍스트와 타겟 출력\n",
        "x = train_data[:block_size]\n",
        "y = train_data[1:block_size+1]\n",
        "for t in range(block_size):\n",
        "    context = x[:t+1]\n",
        "    target = y[t]\n",
        "    print(f\"when input is {context} the target: {target}\")"
      ],
      "metadata": {
        "colab": {
          "base_uri": "https://localhost:8080/"
        },
        "id": "9HXDe8vGJCEn",
        "outputId": "588663aa-1de5-4ef7-aba0-4a96fe828353"
      },
      "execution_count": null,
      "outputs": [
        {
          "output_type": "stream",
          "name": "stdout",
          "text": [
            "when input is tensor([18]) the target: 47\n",
            "when input is tensor([18, 47]) the target: 56\n",
            "when input is tensor([18, 47, 56]) the target: 57\n",
            "when input is tensor([18, 47, 56, 57]) the target: 58\n",
            "when input is tensor([18, 47, 56, 57, 58]) the target: 1\n",
            "when input is tensor([18, 47, 56, 57, 58,  1]) the target: 15\n",
            "when input is tensor([18, 47, 56, 57, 58,  1, 15]) the target: 47\n",
            "when input is tensor([18, 47, 56, 57, 58,  1, 15, 47]) the target: 58\n"
          ]
        }
      ]
    },
    {
      "cell_type": "markdown",
      "source": [
        "- 데이터 배치 생성 (Pytorch 사용)"
      ],
      "metadata": {
        "id": "eUPfaSVjoqOF"
      }
    },
    {
      "cell_type": "code",
      "source": [
        "torch.manual_seed(1337) # 시드 설정\n",
        "batch_size = 4 # 병렬 처리할 독립 시퀀스의 수 정의\n",
        "block_size = 8 # 예측에 사용될 최대 컨텍스트 길이\n",
        "\n",
        "# train/val 에서 작은 배치로 나누기\n",
        "def get_batch(split):\n",
        "    # generate a small batch of data of inputs x and targets y\n",
        "    data = train_data if split == 'train' else val_data\n",
        "    # 데이터 길이를 고려해서 랜덤한 시작 인덱스 선택 (선택된 시작 위치에서 block_size만큼 데이터 가져와도 인덱스 오류 안나게끔 하기 위해서)\n",
        "    ix = torch.randint(len(data) - block_size, (batch_size,))\n",
        "    # print(f'ix: {ix}')\n",
        "    # 시작 인덱스로부터 block_size만큼 데이터 선택해서 입력 데이터 x를 생성\n",
        "    x = torch.stack([data[i:i+block_size] for i in ix])\n",
        "    # 동일한 시작 인덱스에서 한 칸 뒤로 이동한 위치부터 데이터를 선택하여 타겟 데이터 y를 생성\n",
        "    y = torch.stack([data[i+1:i+block_size+1] for i in ix])\n",
        "    return x, y\n",
        "\n",
        "xb, yb = get_batch('train')\n",
        "print('inputs:')\n",
        "print(xb.shape)\n",
        "print(xb)\n",
        "print('targets:')\n",
        "print(yb.shape)\n",
        "print(yb)\n",
        "\n",
        "print('----')\n",
        "\n",
        "for b in range(batch_size): # batch dimension\n",
        "    for t in range(block_size): # time dimension\n",
        "        context = xb[b, :t+1]\n",
        "        target = yb[b,t]\n",
        "        print(f\"when input is {context.tolist()} the target: {target}\")"
      ],
      "metadata": {
        "colab": {
          "base_uri": "https://localhost:8080/"
        },
        "id": "Q3k1Czf7LuA9",
        "outputId": "423813ee-47e2-46bf-fcd5-342be6e7178b"
      },
      "execution_count": 17,
      "outputs": [
        {
          "output_type": "stream",
          "name": "stdout",
          "text": [
            "inputs:\n",
            "torch.Size([4, 8])\n",
            "tensor([[24, 43, 58,  5, 57,  1, 46, 43],\n",
            "        [44, 53, 56,  1, 58, 46, 39, 58],\n",
            "        [52, 58,  1, 58, 46, 39, 58,  1],\n",
            "        [25, 17, 27, 10,  0, 21,  1, 54]])\n",
            "targets:\n",
            "torch.Size([4, 8])\n",
            "tensor([[43, 58,  5, 57,  1, 46, 43, 39],\n",
            "        [53, 56,  1, 58, 46, 39, 58,  1],\n",
            "        [58,  1, 58, 46, 39, 58,  1, 46],\n",
            "        [17, 27, 10,  0, 21,  1, 54, 39]])\n",
            "----\n",
            "when input is [24] the target: 43\n",
            "when input is [24, 43] the target: 58\n",
            "when input is [24, 43, 58] the target: 5\n",
            "when input is [24, 43, 58, 5] the target: 57\n",
            "when input is [24, 43, 58, 5, 57] the target: 1\n",
            "when input is [24, 43, 58, 5, 57, 1] the target: 46\n",
            "when input is [24, 43, 58, 5, 57, 1, 46] the target: 43\n",
            "when input is [24, 43, 58, 5, 57, 1, 46, 43] the target: 39\n",
            "when input is [44] the target: 53\n",
            "when input is [44, 53] the target: 56\n",
            "when input is [44, 53, 56] the target: 1\n",
            "when input is [44, 53, 56, 1] the target: 58\n",
            "when input is [44, 53, 56, 1, 58] the target: 46\n",
            "when input is [44, 53, 56, 1, 58, 46] the target: 39\n",
            "when input is [44, 53, 56, 1, 58, 46, 39] the target: 58\n",
            "when input is [44, 53, 56, 1, 58, 46, 39, 58] the target: 1\n",
            "when input is [52] the target: 58\n",
            "when input is [52, 58] the target: 1\n",
            "when input is [52, 58, 1] the target: 58\n",
            "when input is [52, 58, 1, 58] the target: 46\n",
            "when input is [52, 58, 1, 58, 46] the target: 39\n",
            "when input is [52, 58, 1, 58, 46, 39] the target: 58\n",
            "when input is [52, 58, 1, 58, 46, 39, 58] the target: 1\n",
            "when input is [52, 58, 1, 58, 46, 39, 58, 1] the target: 46\n",
            "when input is [25] the target: 17\n",
            "when input is [25, 17] the target: 27\n",
            "when input is [25, 17, 27] the target: 10\n",
            "when input is [25, 17, 27, 10] the target: 0\n",
            "when input is [25, 17, 27, 10, 0] the target: 21\n",
            "when input is [25, 17, 27, 10, 0, 21] the target: 1\n",
            "when input is [25, 17, 27, 10, 0, 21, 1] the target: 54\n",
            "when input is [25, 17, 27, 10, 0, 21, 1, 54] the target: 39\n"
          ]
        }
      ]
    },
    {
      "cell_type": "code",
      "source": [
        "print(xb) # our input to the transformer"
      ],
      "metadata": {
        "colab": {
          "base_uri": "https://localhost:8080/"
        },
        "id": "qpyyAeIzQjlO",
        "outputId": "ed1b074e-ee38-4971-b12c-484293b5f839"
      },
      "execution_count": 18,
      "outputs": [
        {
          "output_type": "stream",
          "name": "stdout",
          "text": [
            "tensor([[24, 43, 58,  5, 57,  1, 46, 43],\n",
            "        [44, 53, 56,  1, 58, 46, 39, 58],\n",
            "        [52, 58,  1, 58, 46, 39, 58,  1],\n",
            "        [25, 17, 27, 10,  0, 21,  1, 54]])\n"
          ]
        }
      ]
    },
    {
      "cell_type": "markdown",
      "source": [
        "- 언어 모델 및 손실 함수 정의\n",
        " - B (Batch Size): 한 번에 처리되는 데이터 시퀀스의 수\n",
        " - T (Sequence Length): 각 입력 데이터(배치 내의 각 시퀀스)의 길이입니다. block_size에 해당하는 값, 모델이 한 번에 처리할 입력의 길이를 의미함\n",
        " - C (Number of Classes or Vocabulary Size): 모델 출력의 차원 수로, 가능한 각 토큰에 대한 점수를 의미. 어휘(vocabulary)의 크기와 같으며, 모델이 각 시퀀스 위치에서 예측할 수 있는 가능한 모든 토큰의 수."
      ],
      "metadata": {
        "id": "YNyP2enTsHk3"
      }
    },
    {
      "cell_type": "code",
      "source": [
        "import torch\n",
        "import torch.nn as nn\n",
        "from torch.nn import functional as F\n",
        "torch.manual_seed(1337)\n",
        "\n",
        "class BigramLanguageModel(nn.Module):\n",
        "    # 빅램 언어 모델 정의\n",
        "    def __init__(self, vocab_size):\n",
        "        super().__init__()\n",
        "        # 각 토큰에 대해 다음 토큰의 로짓을 직접 읽을 수 있는 룩업 테이블을 생성\n",
        "        self.token_embedding_table = nn.Embedding(vocab_size, vocab_size)\n",
        "\n",
        "    def forward(self, idx, targets=None):\n",
        "        # idx and targets are both (B,T) tensor of integers\n",
        "        # 해당 인덱스에 대한 임베딩 조회 B: 배치 크기, T: 시퀀스 길이, C: 클래스의 수\n",
        "        logits = self.token_embedding_table(idx) # (B, T, C) 형태의 로짓 얻음\n",
        "\n",
        "        if targets is None:\n",
        "            loss = None # 타겟이 없다면 손실 없음\n",
        "        else:\n",
        "            print(f'logits.shape: {logits.shape}')\n",
        "            B, T, C = logits.shape\n",
        "            logits = logits.view(B*T, C) # 텐서 변환\n",
        "            print(f\"target: {targets.shape}\")\n",
        "            targets = targets.view(B*T)\n",
        "            print(f\"target: {targets.shape}\")\n",
        "            # cross entropy 손실 함수 사용\n",
        "            loss = F.cross_entropy(logits, targets)\n",
        "\n",
        "        return logits, loss\n",
        "\n",
        "    def generate(self, idx, max_new_tokens):\n",
        "        # 새 토큰 생성\n",
        "        # idx: 현재 컨텍스트의 인덱스 배열 (B, T)\n",
        "        for _ in range(max_new_tokens):\n",
        "            # 현재 컨텍스트에 대한 예측 가져오기\n",
        "            logits, loss = self(idx)\n",
        "            # 마지막 단계 로짓만 가져오기\n",
        "            logits = logits[:, -1, :] # becomes (B, C)\n",
        "            # apply softmax to get probabilities # 확률로 변환\n",
        "            probs = F.softmax(logits, dim=-1) # (B, C) c: 전체 단어 수\n",
        "            # sample from the distribution # # 확률 분포에서 샘플링하여 다음 토큰의 인덱스를 얻음\n",
        "            idx_next = torch.multinomial(probs, num_samples=1) # (B, 1)\n",
        "            # 샘플링된 인덱스를 현재 시퀀스에 추가\n",
        "            idx = torch.cat((idx, idx_next), dim=1) # (B, T+1)\n",
        "        return idx\n",
        "\n",
        "m = BigramLanguageModel(vocab_size)\n",
        "logits, loss = m(xb, yb)\n",
        "print(logits.shape) # 로짓의 형태 출력\n",
        "print(loss) # 계산된 손실 출력\n",
        "# 모델을 사용하여 새로운 토큰 생성 및 디코드된 결과 출력\n",
        "print(decode(m.generate(idx = torch.zeros((1, 1), dtype=torch.long), max_new_tokens=100)[0].tolist()))\n"
      ],
      "metadata": {
        "colab": {
          "base_uri": "https://localhost:8080/"
        },
        "id": "nql_1ER53oCf",
        "outputId": "b8a040a1-79e5-439c-ce3e-d09cb4dda920"
      },
      "execution_count": 32,
      "outputs": [
        {
          "output_type": "stream",
          "name": "stdout",
          "text": [
            "logits.shape: torch.Size([32, 8, 65])\n",
            "target: torch.Size([32, 8])\n",
            "target: torch.Size([256])\n",
            "torch.Size([256, 65])\n",
            "tensor(4.7007, grad_fn=<NllLossBackward0>)\n",
            "\n",
            "Sr?qP-QWktXoL&jLDJgOLVz'RIoDqHdhsV&vLLxatjscMpwLERSPyao.qfzs$Ys$zF-w,;eEkzxjgCKFChs!iWW.ObzDnxA Ms$3\n"
          ]
        }
      ]
    },
    {
      "cell_type": "markdown",
      "source": [
        "  -- cross entropy loss\n",
        ": 모델의 예측 확률 분포와 실제 레이블의 확률 분포 사이의 차이 계산"
      ],
      "metadata": {
        "id": "XMxBMPzc2e6g"
      }
    },
    {
      "cell_type": "markdown",
      "source": [
        "- 옵티마이저 설정 및 학습 루프"
      ],
      "metadata": {
        "id": "O-yYQ2OlyMsW"
      }
    },
    {
      "cell_type": "code",
      "source": [
        "# Adam 옵티마이저를 초기화\n",
        "optimizer = torch.optim.AdamW(m.parameters(), lr=1e-3)"
      ],
      "metadata": {
        "id": "eTyJ8qAaDdiF"
      },
      "execution_count": 27,
      "outputs": []
    },
    {
      "cell_type": "code",
      "source": [
        "batch_size = 32\n",
        "for steps in range(100): # increase number of steps for good results...\n",
        "\n",
        "    # train 데이터셋에서 반복적으로 무작위로 배치를 샘플링하여 수행\n",
        "    xb, yb = get_batch('train')\n",
        "\n",
        "    # evaluate the loss\n",
        "    logits, loss = m(xb, yb)\n",
        "    # 이전 그래디언트를 초기화하여 그래디언트가 누적되지 않도록 함\n",
        "    optimizer.zero_grad(set_to_none=True)\n",
        "    loss.backward()\n",
        "    # 모델 가중치 업데이트\n",
        "    optimizer.step()\n",
        "\n",
        "print(loss.item())\n"
      ],
      "metadata": {
        "colab": {
          "base_uri": "https://localhost:8080/"
        },
        "id": "Hs4kI8YdEkQj",
        "outputId": "93b9615e-7eba-4c9b-e587-2cc152b239f7"
      },
      "execution_count": 31,
      "outputs": [
        {
          "output_type": "stream",
          "name": "stdout",
          "text": [
            "4.700694561004639\n"
          ]
        }
      ]
    },
    {
      "cell_type": "markdown",
      "source": [
        "- generate함수 이용해서 학습된 모델을 사용해 새로운 토큰 생성\n",
        " 1. 초기 컨텐스트 설정: idx = torch.zeros((1, 1), dtype=torch.long) // 하나의 배치 (B=1)가 하나의 토큰 (T=1)을 가지고, 토큰의 인덱스 0 -> 실제 어휘에선 첫번째 토큰 의미함\n",
        " 2. 토큰 생성: 입력된 idx 텐서를 시작으로 최대 500개의 새로운 토큰을 순차적으로 생성\n",
        " max_new_tokens 수만큼 반복하면서 다음 토큰을 예측, 이를 현재 시퀀스에 추가함\n",
        " 4. 내부 동작\n",
        " - 로짓과 확률 계산: 각 반복에서 self(idx)를 통해 현재 시퀀스의 로짓을 계산, 마지막 토큰에 대한 로짓만 분리해서 softmax함수 적용 -> 다음 토큰의 확률 분포 얻기\n",
        " - 샘플링: 확률 분포에서 하나의 토큰을 무작위로 샘플링. (torch.multinomial).\n",
        " - 시퀀스 업데이트: 새 토큰의 인덱스를 현재 시퀀스 idx에 추가. 길이가 점차 늘어나는 시퀀스 생성\n",
        " 5. 결과 반환 및 디코딩: tolist()로 리스트로 변환, decode함수 통해 인덱스 리스트를 실제 텍스트로 변환. 각 인덱스를 해당하는 토큰으로 변환"
      ],
      "metadata": {
        "id": "DE8J4OmG0v2b"
      }
    },
    {
      "cell_type": "code",
      "source": [
        "print(decode(m.generate(idx = torch.zeros((1, 1), dtype=torch.long), max_new_tokens=500)[0].tolist()))"
      ],
      "metadata": {
        "colab": {
          "base_uri": "https://localhost:8080/"
        },
        "id": "EcVIDWAZEtjN",
        "outputId": "d29ac0b0-0ded-456c-ca71-cc7e9f542d08"
      },
      "execution_count": 29,
      "outputs": [
        {
          "output_type": "stream",
          "name": "stdout",
          "text": [
            "\n",
            "SpJFfx;LgRyJknOEti.?I&-gPlLyulId?XlaInQ'q,lT$\n",
            "3Q&sGlvHQ?mqSq-eON\n",
            "x?SP fUAfCAuCX:bOlgiRQWN:Mphaw\n",
            "tRLKuYXEaAXxrcq-gCUzeh3w!AcyaylgYWjmJM?Uzw:inaY,:C&OECW:vmGGJAn3onAuMgia!ms$Vb q-gCOcPcUhOnxJGUGSPJWT:.?ujmJFoiNL&A'DxY,prZ?qdT;hoo'dHooXXlxf'WkHK&u3Q?rqUi.kz;?Yx?C&u3Qbfzxlyh'Vl:zyxjKXgC?\n",
            "lv'QKFiBeviNxO'm!Upm$srm&TqViqiBD3HBP!juEOpmZJyF$Fwfy!PlvWPFC\n",
            "&WDdP!Ko,px\n",
            "x\n",
            "tREOE;AJ.BeXkylOVD3KHp$e?nD,.SFbWWI'ubcL!q-tU;aXmJ&uGXHxJXI&Z!gHRpajj;l.\n",
            "pTErIBjx;JKIgoCnLGXrJSP!AU-AcbczR?aytqQmBxZb:txqfSBj$I&\n",
            "gXxy,j,SYg\n"
          ]
        }
      ]
    },
    {
      "cell_type": "markdown",
      "source": [
        "## The mathematical trick in self-attention"
      ],
      "metadata": {
        "id": "XinV8nmAnmKN"
      }
    },
    {
      "cell_type": "markdown",
      "source": [
        "- torch 사용, weighted aggregation 하기\n",
        " - torch.sum(a,1,keepdim=True)\n",
        "  - torch.sum: 텐서의 합\n",
        "  - a 행렬에서 각 행의 합을 계산\n",
        "  - dim=1: 행 방향(열을 따라) 합 계산\n",
        "  - keepdim=True: 원래의 차원을 유지한 채 결과 반환. 결과의 차원 유지"
      ],
      "metadata": {
        "id": "kG3eXiTE3sBx"
      }
    },
    {
      "cell_type": "code",
      "source": [
        "# toy example illustrating how matrix multiplication can be used for a \"weighted aggregation\"\n",
        "torch.manual_seed(42)\n",
        "# 3x3 단위 삼각 행렬 생성: torch.tril: 모든 원소가 1인 하단 삼각 행렬 생성\n",
        "a = torch.tril(torch.ones(3, 3))\n",
        "display(a)\n",
        "# 각 행의 합이 1이 되도록 행렬 a를 정규화 함. 각 행이 확률분포를 나타내도록 함\n",
        "display(torch.sum(a, 1, keepdim=True) )\n",
        "a = a / torch.sum(a, 1, keepdim=True) # (3x3) / (3x1)\n",
        "# 무작위 행렬 생성: 0부터 9 사이의 정수로 구성된 3x2 크기의 무작위 행렬을 생성하고, 이를 실수형(float)로 변환\n",
        "b = torch.randint(0,10,(3,2)).float()\n",
        "c = a @ b # weighted agg.\n",
        "print('a=')\n",
        "print(a)\n",
        "print('--')\n",
        "print('b=')\n",
        "print(b)\n",
        "print('--')\n",
        "print('c=')\n",
        "print(c)"
      ],
      "metadata": {
        "colab": {
          "base_uri": "https://localhost:8080/",
          "height": 391
        },
        "id": "tukiH-NbRBhA",
        "outputId": "58e4a327-12a7-4a00-a8a3-0af225c0674a"
      },
      "execution_count": 47,
      "outputs": [
        {
          "output_type": "display_data",
          "data": {
            "text/plain": [
              "tensor([[1., 0., 0.],\n",
              "        [1., 1., 0.],\n",
              "        [1., 1., 1.]])"
            ]
          },
          "metadata": {}
        },
        {
          "output_type": "display_data",
          "data": {
            "text/plain": [
              "tensor([[1.],\n",
              "        [2.],\n",
              "        [3.]])"
            ]
          },
          "metadata": {}
        },
        {
          "output_type": "stream",
          "name": "stdout",
          "text": [
            "a=\n",
            "tensor([[1.0000, 0.0000, 0.0000],\n",
            "        [0.5000, 0.5000, 0.0000],\n",
            "        [0.3333, 0.3333, 0.3333]])\n",
            "--\n",
            "b=\n",
            "tensor([[2., 7.],\n",
            "        [6., 4.],\n",
            "        [6., 5.]])\n",
            "--\n",
            "c=\n",
            "tensor([[2.0000, 7.0000],\n",
            "        [4.0000, 5.5000],\n",
            "        [4.6667, 5.3333]])\n"
          ]
        }
      ]
    },
    {
      "cell_type": "code",
      "source": [
        "# consider the following toy example:\n",
        "\n",
        "torch.manual_seed(1337)\n",
        "B,T,C = 4,8,2 # batch, time, channels\n",
        "x = torch.randn(B,T,C)\n",
        "x.shape\n",
        "print(x)"
      ],
      "metadata": {
        "colab": {
          "base_uri": "https://localhost:8080/"
        },
        "id": "Hs_E24uRE8kr",
        "outputId": "6b6a8ec1-b3e0-49b5-ce05-d4860c3e6edc"
      },
      "execution_count": 48,
      "outputs": [
        {
          "output_type": "stream",
          "name": "stdout",
          "text": [
            "tensor([[[ 0.1808, -0.0700],\n",
            "         [-0.3596, -0.9152],\n",
            "         [ 0.6258,  0.0255],\n",
            "         [ 0.9545,  0.0643],\n",
            "         [ 0.3612,  1.1679],\n",
            "         [-1.3499, -0.5102],\n",
            "         [ 0.2360, -0.2398],\n",
            "         [-0.9211,  1.5433]],\n",
            "\n",
            "        [[ 1.3488, -0.1396],\n",
            "         [ 0.2858,  0.9651],\n",
            "         [-2.0371,  0.4931],\n",
            "         [ 1.4870,  0.5910],\n",
            "         [ 0.1260, -1.5627],\n",
            "         [-1.1601, -0.3348],\n",
            "         [ 0.4478, -0.8016],\n",
            "         [ 1.5236,  2.5086]],\n",
            "\n",
            "        [[-0.6631, -0.2513],\n",
            "         [ 1.0101,  0.1215],\n",
            "         [ 0.1584,  1.1340],\n",
            "         [-1.1539, -0.2984],\n",
            "         [-0.5075, -0.9239],\n",
            "         [ 0.5467, -1.4948],\n",
            "         [-1.2057,  0.5718],\n",
            "         [-0.5974, -0.6937]],\n",
            "\n",
            "        [[ 1.6455, -0.8030],\n",
            "         [ 1.3514, -0.2759],\n",
            "         [-1.5108,  2.1048],\n",
            "         [ 2.7630, -1.7465],\n",
            "         [ 1.4516, -1.5103],\n",
            "         [ 0.8212, -0.2115],\n",
            "         [ 0.7789,  1.5333],\n",
            "         [ 1.6097, -0.4032]]])\n"
          ]
        }
      ]
    },
    {
      "cell_type": "markdown",
      "source": [
        "- 시간 축을 따라 각 시점까지의 평균 값을 계산하는 것으로, 이는 시간에 따른 누적 평균을 구하는 방법"
      ],
      "metadata": {
        "id": "S-vZ50gf7ztQ"
      }
    },
    {
      "cell_type": "code",
      "source": [
        "# We want x[b,t] = mean_{i<=t} x[b,i]\n",
        "xbow = torch.zeros((B,T,C))\n",
        "for b in range(B):\n",
        "    for t in range(T):\n",
        "        xprev = x[b,:t+1] # (t,C) # t까지의 이전 타임스텝의 값을 선택\n",
        "        print(f\"xprev: {xprev}\")\n",
        "        xbow[b,t] = torch.mean(xprev, 0) #  각 채널별로 평균을 계산\n",
        "        print(f\"xbow: {xbow}\")\n"
      ],
      "metadata": {
        "id": "86NuXX0fn7ps",
        "colab": {
          "base_uri": "https://localhost:8080/"
        },
        "outputId": "b7f16d56-a795-4fe4-9e6d-ed4b49704a46"
      },
      "execution_count": 49,
      "outputs": [
        {
          "output_type": "stream",
          "name": "stdout",
          "text": [
            "xprev: tensor([[ 0.1808, -0.0700]])\n",
            "xbow: tensor([[[ 0.1808, -0.0700],\n",
            "         [ 0.0000,  0.0000],\n",
            "         [ 0.0000,  0.0000],\n",
            "         [ 0.0000,  0.0000],\n",
            "         [ 0.0000,  0.0000],\n",
            "         [ 0.0000,  0.0000],\n",
            "         [ 0.0000,  0.0000],\n",
            "         [ 0.0000,  0.0000]],\n",
            "\n",
            "        [[ 0.0000,  0.0000],\n",
            "         [ 0.0000,  0.0000],\n",
            "         [ 0.0000,  0.0000],\n",
            "         [ 0.0000,  0.0000],\n",
            "         [ 0.0000,  0.0000],\n",
            "         [ 0.0000,  0.0000],\n",
            "         [ 0.0000,  0.0000],\n",
            "         [ 0.0000,  0.0000]],\n",
            "\n",
            "        [[ 0.0000,  0.0000],\n",
            "         [ 0.0000,  0.0000],\n",
            "         [ 0.0000,  0.0000],\n",
            "         [ 0.0000,  0.0000],\n",
            "         [ 0.0000,  0.0000],\n",
            "         [ 0.0000,  0.0000],\n",
            "         [ 0.0000,  0.0000],\n",
            "         [ 0.0000,  0.0000]],\n",
            "\n",
            "        [[ 0.0000,  0.0000],\n",
            "         [ 0.0000,  0.0000],\n",
            "         [ 0.0000,  0.0000],\n",
            "         [ 0.0000,  0.0000],\n",
            "         [ 0.0000,  0.0000],\n",
            "         [ 0.0000,  0.0000],\n",
            "         [ 0.0000,  0.0000],\n",
            "         [ 0.0000,  0.0000]]])\n",
            "xprev: tensor([[ 0.1808, -0.0700],\n",
            "        [-0.3596, -0.9152]])\n",
            "xbow: tensor([[[ 0.1808, -0.0700],\n",
            "         [-0.0894, -0.4926],\n",
            "         [ 0.0000,  0.0000],\n",
            "         [ 0.0000,  0.0000],\n",
            "         [ 0.0000,  0.0000],\n",
            "         [ 0.0000,  0.0000],\n",
            "         [ 0.0000,  0.0000],\n",
            "         [ 0.0000,  0.0000]],\n",
            "\n",
            "        [[ 0.0000,  0.0000],\n",
            "         [ 0.0000,  0.0000],\n",
            "         [ 0.0000,  0.0000],\n",
            "         [ 0.0000,  0.0000],\n",
            "         [ 0.0000,  0.0000],\n",
            "         [ 0.0000,  0.0000],\n",
            "         [ 0.0000,  0.0000],\n",
            "         [ 0.0000,  0.0000]],\n",
            "\n",
            "        [[ 0.0000,  0.0000],\n",
            "         [ 0.0000,  0.0000],\n",
            "         [ 0.0000,  0.0000],\n",
            "         [ 0.0000,  0.0000],\n",
            "         [ 0.0000,  0.0000],\n",
            "         [ 0.0000,  0.0000],\n",
            "         [ 0.0000,  0.0000],\n",
            "         [ 0.0000,  0.0000]],\n",
            "\n",
            "        [[ 0.0000,  0.0000],\n",
            "         [ 0.0000,  0.0000],\n",
            "         [ 0.0000,  0.0000],\n",
            "         [ 0.0000,  0.0000],\n",
            "         [ 0.0000,  0.0000],\n",
            "         [ 0.0000,  0.0000],\n",
            "         [ 0.0000,  0.0000],\n",
            "         [ 0.0000,  0.0000]]])\n",
            "xprev: tensor([[ 0.1808, -0.0700],\n",
            "        [-0.3596, -0.9152],\n",
            "        [ 0.6258,  0.0255]])\n",
            "xbow: tensor([[[ 0.1808, -0.0700],\n",
            "         [-0.0894, -0.4926],\n",
            "         [ 0.1490, -0.3199],\n",
            "         [ 0.0000,  0.0000],\n",
            "         [ 0.0000,  0.0000],\n",
            "         [ 0.0000,  0.0000],\n",
            "         [ 0.0000,  0.0000],\n",
            "         [ 0.0000,  0.0000]],\n",
            "\n",
            "        [[ 0.0000,  0.0000],\n",
            "         [ 0.0000,  0.0000],\n",
            "         [ 0.0000,  0.0000],\n",
            "         [ 0.0000,  0.0000],\n",
            "         [ 0.0000,  0.0000],\n",
            "         [ 0.0000,  0.0000],\n",
            "         [ 0.0000,  0.0000],\n",
            "         [ 0.0000,  0.0000]],\n",
            "\n",
            "        [[ 0.0000,  0.0000],\n",
            "         [ 0.0000,  0.0000],\n",
            "         [ 0.0000,  0.0000],\n",
            "         [ 0.0000,  0.0000],\n",
            "         [ 0.0000,  0.0000],\n",
            "         [ 0.0000,  0.0000],\n",
            "         [ 0.0000,  0.0000],\n",
            "         [ 0.0000,  0.0000]],\n",
            "\n",
            "        [[ 0.0000,  0.0000],\n",
            "         [ 0.0000,  0.0000],\n",
            "         [ 0.0000,  0.0000],\n",
            "         [ 0.0000,  0.0000],\n",
            "         [ 0.0000,  0.0000],\n",
            "         [ 0.0000,  0.0000],\n",
            "         [ 0.0000,  0.0000],\n",
            "         [ 0.0000,  0.0000]]])\n",
            "xprev: tensor([[ 0.1808, -0.0700],\n",
            "        [-0.3596, -0.9152],\n",
            "        [ 0.6258,  0.0255],\n",
            "        [ 0.9545,  0.0643]])\n",
            "xbow: tensor([[[ 0.1808, -0.0700],\n",
            "         [-0.0894, -0.4926],\n",
            "         [ 0.1490, -0.3199],\n",
            "         [ 0.3504, -0.2238],\n",
            "         [ 0.0000,  0.0000],\n",
            "         [ 0.0000,  0.0000],\n",
            "         [ 0.0000,  0.0000],\n",
            "         [ 0.0000,  0.0000]],\n",
            "\n",
            "        [[ 0.0000,  0.0000],\n",
            "         [ 0.0000,  0.0000],\n",
            "         [ 0.0000,  0.0000],\n",
            "         [ 0.0000,  0.0000],\n",
            "         [ 0.0000,  0.0000],\n",
            "         [ 0.0000,  0.0000],\n",
            "         [ 0.0000,  0.0000],\n",
            "         [ 0.0000,  0.0000]],\n",
            "\n",
            "        [[ 0.0000,  0.0000],\n",
            "         [ 0.0000,  0.0000],\n",
            "         [ 0.0000,  0.0000],\n",
            "         [ 0.0000,  0.0000],\n",
            "         [ 0.0000,  0.0000],\n",
            "         [ 0.0000,  0.0000],\n",
            "         [ 0.0000,  0.0000],\n",
            "         [ 0.0000,  0.0000]],\n",
            "\n",
            "        [[ 0.0000,  0.0000],\n",
            "         [ 0.0000,  0.0000],\n",
            "         [ 0.0000,  0.0000],\n",
            "         [ 0.0000,  0.0000],\n",
            "         [ 0.0000,  0.0000],\n",
            "         [ 0.0000,  0.0000],\n",
            "         [ 0.0000,  0.0000],\n",
            "         [ 0.0000,  0.0000]]])\n",
            "xprev: tensor([[ 0.1808, -0.0700],\n",
            "        [-0.3596, -0.9152],\n",
            "        [ 0.6258,  0.0255],\n",
            "        [ 0.9545,  0.0643],\n",
            "        [ 0.3612,  1.1679]])\n",
            "xbow: tensor([[[ 0.1808, -0.0700],\n",
            "         [-0.0894, -0.4926],\n",
            "         [ 0.1490, -0.3199],\n",
            "         [ 0.3504, -0.2238],\n",
            "         [ 0.3525,  0.0545],\n",
            "         [ 0.0000,  0.0000],\n",
            "         [ 0.0000,  0.0000],\n",
            "         [ 0.0000,  0.0000]],\n",
            "\n",
            "        [[ 0.0000,  0.0000],\n",
            "         [ 0.0000,  0.0000],\n",
            "         [ 0.0000,  0.0000],\n",
            "         [ 0.0000,  0.0000],\n",
            "         [ 0.0000,  0.0000],\n",
            "         [ 0.0000,  0.0000],\n",
            "         [ 0.0000,  0.0000],\n",
            "         [ 0.0000,  0.0000]],\n",
            "\n",
            "        [[ 0.0000,  0.0000],\n",
            "         [ 0.0000,  0.0000],\n",
            "         [ 0.0000,  0.0000],\n",
            "         [ 0.0000,  0.0000],\n",
            "         [ 0.0000,  0.0000],\n",
            "         [ 0.0000,  0.0000],\n",
            "         [ 0.0000,  0.0000],\n",
            "         [ 0.0000,  0.0000]],\n",
            "\n",
            "        [[ 0.0000,  0.0000],\n",
            "         [ 0.0000,  0.0000],\n",
            "         [ 0.0000,  0.0000],\n",
            "         [ 0.0000,  0.0000],\n",
            "         [ 0.0000,  0.0000],\n",
            "         [ 0.0000,  0.0000],\n",
            "         [ 0.0000,  0.0000],\n",
            "         [ 0.0000,  0.0000]]])\n",
            "xprev: tensor([[ 0.1808, -0.0700],\n",
            "        [-0.3596, -0.9152],\n",
            "        [ 0.6258,  0.0255],\n",
            "        [ 0.9545,  0.0643],\n",
            "        [ 0.3612,  1.1679],\n",
            "        [-1.3499, -0.5102]])\n",
            "xbow: tensor([[[ 0.1808, -0.0700],\n",
            "         [-0.0894, -0.4926],\n",
            "         [ 0.1490, -0.3199],\n",
            "         [ 0.3504, -0.2238],\n",
            "         [ 0.3525,  0.0545],\n",
            "         [ 0.0688, -0.0396],\n",
            "         [ 0.0000,  0.0000],\n",
            "         [ 0.0000,  0.0000]],\n",
            "\n",
            "        [[ 0.0000,  0.0000],\n",
            "         [ 0.0000,  0.0000],\n",
            "         [ 0.0000,  0.0000],\n",
            "         [ 0.0000,  0.0000],\n",
            "         [ 0.0000,  0.0000],\n",
            "         [ 0.0000,  0.0000],\n",
            "         [ 0.0000,  0.0000],\n",
            "         [ 0.0000,  0.0000]],\n",
            "\n",
            "        [[ 0.0000,  0.0000],\n",
            "         [ 0.0000,  0.0000],\n",
            "         [ 0.0000,  0.0000],\n",
            "         [ 0.0000,  0.0000],\n",
            "         [ 0.0000,  0.0000],\n",
            "         [ 0.0000,  0.0000],\n",
            "         [ 0.0000,  0.0000],\n",
            "         [ 0.0000,  0.0000]],\n",
            "\n",
            "        [[ 0.0000,  0.0000],\n",
            "         [ 0.0000,  0.0000],\n",
            "         [ 0.0000,  0.0000],\n",
            "         [ 0.0000,  0.0000],\n",
            "         [ 0.0000,  0.0000],\n",
            "         [ 0.0000,  0.0000],\n",
            "         [ 0.0000,  0.0000],\n",
            "         [ 0.0000,  0.0000]]])\n",
            "xprev: tensor([[ 0.1808, -0.0700],\n",
            "        [-0.3596, -0.9152],\n",
            "        [ 0.6258,  0.0255],\n",
            "        [ 0.9545,  0.0643],\n",
            "        [ 0.3612,  1.1679],\n",
            "        [-1.3499, -0.5102],\n",
            "        [ 0.2360, -0.2398]])\n",
            "xbow: tensor([[[ 0.1808, -0.0700],\n",
            "         [-0.0894, -0.4926],\n",
            "         [ 0.1490, -0.3199],\n",
            "         [ 0.3504, -0.2238],\n",
            "         [ 0.3525,  0.0545],\n",
            "         [ 0.0688, -0.0396],\n",
            "         [ 0.0927, -0.0682],\n",
            "         [ 0.0000,  0.0000]],\n",
            "\n",
            "        [[ 0.0000,  0.0000],\n",
            "         [ 0.0000,  0.0000],\n",
            "         [ 0.0000,  0.0000],\n",
            "         [ 0.0000,  0.0000],\n",
            "         [ 0.0000,  0.0000],\n",
            "         [ 0.0000,  0.0000],\n",
            "         [ 0.0000,  0.0000],\n",
            "         [ 0.0000,  0.0000]],\n",
            "\n",
            "        [[ 0.0000,  0.0000],\n",
            "         [ 0.0000,  0.0000],\n",
            "         [ 0.0000,  0.0000],\n",
            "         [ 0.0000,  0.0000],\n",
            "         [ 0.0000,  0.0000],\n",
            "         [ 0.0000,  0.0000],\n",
            "         [ 0.0000,  0.0000],\n",
            "         [ 0.0000,  0.0000]],\n",
            "\n",
            "        [[ 0.0000,  0.0000],\n",
            "         [ 0.0000,  0.0000],\n",
            "         [ 0.0000,  0.0000],\n",
            "         [ 0.0000,  0.0000],\n",
            "         [ 0.0000,  0.0000],\n",
            "         [ 0.0000,  0.0000],\n",
            "         [ 0.0000,  0.0000],\n",
            "         [ 0.0000,  0.0000]]])\n",
            "xprev: tensor([[ 0.1808, -0.0700],\n",
            "        [-0.3596, -0.9152],\n",
            "        [ 0.6258,  0.0255],\n",
            "        [ 0.9545,  0.0643],\n",
            "        [ 0.3612,  1.1679],\n",
            "        [-1.3499, -0.5102],\n",
            "        [ 0.2360, -0.2398],\n",
            "        [-0.9211,  1.5433]])\n",
            "xbow: tensor([[[ 0.1808, -0.0700],\n",
            "         [-0.0894, -0.4926],\n",
            "         [ 0.1490, -0.3199],\n",
            "         [ 0.3504, -0.2238],\n",
            "         [ 0.3525,  0.0545],\n",
            "         [ 0.0688, -0.0396],\n",
            "         [ 0.0927, -0.0682],\n",
            "         [-0.0341,  0.1332]],\n",
            "\n",
            "        [[ 0.0000,  0.0000],\n",
            "         [ 0.0000,  0.0000],\n",
            "         [ 0.0000,  0.0000],\n",
            "         [ 0.0000,  0.0000],\n",
            "         [ 0.0000,  0.0000],\n",
            "         [ 0.0000,  0.0000],\n",
            "         [ 0.0000,  0.0000],\n",
            "         [ 0.0000,  0.0000]],\n",
            "\n",
            "        [[ 0.0000,  0.0000],\n",
            "         [ 0.0000,  0.0000],\n",
            "         [ 0.0000,  0.0000],\n",
            "         [ 0.0000,  0.0000],\n",
            "         [ 0.0000,  0.0000],\n",
            "         [ 0.0000,  0.0000],\n",
            "         [ 0.0000,  0.0000],\n",
            "         [ 0.0000,  0.0000]],\n",
            "\n",
            "        [[ 0.0000,  0.0000],\n",
            "         [ 0.0000,  0.0000],\n",
            "         [ 0.0000,  0.0000],\n",
            "         [ 0.0000,  0.0000],\n",
            "         [ 0.0000,  0.0000],\n",
            "         [ 0.0000,  0.0000],\n",
            "         [ 0.0000,  0.0000],\n",
            "         [ 0.0000,  0.0000]]])\n",
            "xprev: tensor([[ 1.3488, -0.1396]])\n",
            "xbow: tensor([[[ 0.1808, -0.0700],\n",
            "         [-0.0894, -0.4926],\n",
            "         [ 0.1490, -0.3199],\n",
            "         [ 0.3504, -0.2238],\n",
            "         [ 0.3525,  0.0545],\n",
            "         [ 0.0688, -0.0396],\n",
            "         [ 0.0927, -0.0682],\n",
            "         [-0.0341,  0.1332]],\n",
            "\n",
            "        [[ 1.3488, -0.1396],\n",
            "         [ 0.0000,  0.0000],\n",
            "         [ 0.0000,  0.0000],\n",
            "         [ 0.0000,  0.0000],\n",
            "         [ 0.0000,  0.0000],\n",
            "         [ 0.0000,  0.0000],\n",
            "         [ 0.0000,  0.0000],\n",
            "         [ 0.0000,  0.0000]],\n",
            "\n",
            "        [[ 0.0000,  0.0000],\n",
            "         [ 0.0000,  0.0000],\n",
            "         [ 0.0000,  0.0000],\n",
            "         [ 0.0000,  0.0000],\n",
            "         [ 0.0000,  0.0000],\n",
            "         [ 0.0000,  0.0000],\n",
            "         [ 0.0000,  0.0000],\n",
            "         [ 0.0000,  0.0000]],\n",
            "\n",
            "        [[ 0.0000,  0.0000],\n",
            "         [ 0.0000,  0.0000],\n",
            "         [ 0.0000,  0.0000],\n",
            "         [ 0.0000,  0.0000],\n",
            "         [ 0.0000,  0.0000],\n",
            "         [ 0.0000,  0.0000],\n",
            "         [ 0.0000,  0.0000],\n",
            "         [ 0.0000,  0.0000]]])\n",
            "xprev: tensor([[ 1.3488, -0.1396],\n",
            "        [ 0.2858,  0.9651]])\n",
            "xbow: tensor([[[ 0.1808, -0.0700],\n",
            "         [-0.0894, -0.4926],\n",
            "         [ 0.1490, -0.3199],\n",
            "         [ 0.3504, -0.2238],\n",
            "         [ 0.3525,  0.0545],\n",
            "         [ 0.0688, -0.0396],\n",
            "         [ 0.0927, -0.0682],\n",
            "         [-0.0341,  0.1332]],\n",
            "\n",
            "        [[ 1.3488, -0.1396],\n",
            "         [ 0.8173,  0.4127],\n",
            "         [ 0.0000,  0.0000],\n",
            "         [ 0.0000,  0.0000],\n",
            "         [ 0.0000,  0.0000],\n",
            "         [ 0.0000,  0.0000],\n",
            "         [ 0.0000,  0.0000],\n",
            "         [ 0.0000,  0.0000]],\n",
            "\n",
            "        [[ 0.0000,  0.0000],\n",
            "         [ 0.0000,  0.0000],\n",
            "         [ 0.0000,  0.0000],\n",
            "         [ 0.0000,  0.0000],\n",
            "         [ 0.0000,  0.0000],\n",
            "         [ 0.0000,  0.0000],\n",
            "         [ 0.0000,  0.0000],\n",
            "         [ 0.0000,  0.0000]],\n",
            "\n",
            "        [[ 0.0000,  0.0000],\n",
            "         [ 0.0000,  0.0000],\n",
            "         [ 0.0000,  0.0000],\n",
            "         [ 0.0000,  0.0000],\n",
            "         [ 0.0000,  0.0000],\n",
            "         [ 0.0000,  0.0000],\n",
            "         [ 0.0000,  0.0000],\n",
            "         [ 0.0000,  0.0000]]])\n",
            "xprev: tensor([[ 1.3488, -0.1396],\n",
            "        [ 0.2858,  0.9651],\n",
            "        [-2.0371,  0.4931]])\n",
            "xbow: tensor([[[ 0.1808, -0.0700],\n",
            "         [-0.0894, -0.4926],\n",
            "         [ 0.1490, -0.3199],\n",
            "         [ 0.3504, -0.2238],\n",
            "         [ 0.3525,  0.0545],\n",
            "         [ 0.0688, -0.0396],\n",
            "         [ 0.0927, -0.0682],\n",
            "         [-0.0341,  0.1332]],\n",
            "\n",
            "        [[ 1.3488, -0.1396],\n",
            "         [ 0.8173,  0.4127],\n",
            "         [-0.1342,  0.4395],\n",
            "         [ 0.0000,  0.0000],\n",
            "         [ 0.0000,  0.0000],\n",
            "         [ 0.0000,  0.0000],\n",
            "         [ 0.0000,  0.0000],\n",
            "         [ 0.0000,  0.0000]],\n",
            "\n",
            "        [[ 0.0000,  0.0000],\n",
            "         [ 0.0000,  0.0000],\n",
            "         [ 0.0000,  0.0000],\n",
            "         [ 0.0000,  0.0000],\n",
            "         [ 0.0000,  0.0000],\n",
            "         [ 0.0000,  0.0000],\n",
            "         [ 0.0000,  0.0000],\n",
            "         [ 0.0000,  0.0000]],\n",
            "\n",
            "        [[ 0.0000,  0.0000],\n",
            "         [ 0.0000,  0.0000],\n",
            "         [ 0.0000,  0.0000],\n",
            "         [ 0.0000,  0.0000],\n",
            "         [ 0.0000,  0.0000],\n",
            "         [ 0.0000,  0.0000],\n",
            "         [ 0.0000,  0.0000],\n",
            "         [ 0.0000,  0.0000]]])\n",
            "xprev: tensor([[ 1.3488, -0.1396],\n",
            "        [ 0.2858,  0.9651],\n",
            "        [-2.0371,  0.4931],\n",
            "        [ 1.4870,  0.5910]])\n",
            "xbow: tensor([[[ 0.1808, -0.0700],\n",
            "         [-0.0894, -0.4926],\n",
            "         [ 0.1490, -0.3199],\n",
            "         [ 0.3504, -0.2238],\n",
            "         [ 0.3525,  0.0545],\n",
            "         [ 0.0688, -0.0396],\n",
            "         [ 0.0927, -0.0682],\n",
            "         [-0.0341,  0.1332]],\n",
            "\n",
            "        [[ 1.3488, -0.1396],\n",
            "         [ 0.8173,  0.4127],\n",
            "         [-0.1342,  0.4395],\n",
            "         [ 0.2711,  0.4774],\n",
            "         [ 0.0000,  0.0000],\n",
            "         [ 0.0000,  0.0000],\n",
            "         [ 0.0000,  0.0000],\n",
            "         [ 0.0000,  0.0000]],\n",
            "\n",
            "        [[ 0.0000,  0.0000],\n",
            "         [ 0.0000,  0.0000],\n",
            "         [ 0.0000,  0.0000],\n",
            "         [ 0.0000,  0.0000],\n",
            "         [ 0.0000,  0.0000],\n",
            "         [ 0.0000,  0.0000],\n",
            "         [ 0.0000,  0.0000],\n",
            "         [ 0.0000,  0.0000]],\n",
            "\n",
            "        [[ 0.0000,  0.0000],\n",
            "         [ 0.0000,  0.0000],\n",
            "         [ 0.0000,  0.0000],\n",
            "         [ 0.0000,  0.0000],\n",
            "         [ 0.0000,  0.0000],\n",
            "         [ 0.0000,  0.0000],\n",
            "         [ 0.0000,  0.0000],\n",
            "         [ 0.0000,  0.0000]]])\n",
            "xprev: tensor([[ 1.3488, -0.1396],\n",
            "        [ 0.2858,  0.9651],\n",
            "        [-2.0371,  0.4931],\n",
            "        [ 1.4870,  0.5910],\n",
            "        [ 0.1260, -1.5627]])\n",
            "xbow: tensor([[[ 0.1808, -0.0700],\n",
            "         [-0.0894, -0.4926],\n",
            "         [ 0.1490, -0.3199],\n",
            "         [ 0.3504, -0.2238],\n",
            "         [ 0.3525,  0.0545],\n",
            "         [ 0.0688, -0.0396],\n",
            "         [ 0.0927, -0.0682],\n",
            "         [-0.0341,  0.1332]],\n",
            "\n",
            "        [[ 1.3488, -0.1396],\n",
            "         [ 0.8173,  0.4127],\n",
            "         [-0.1342,  0.4395],\n",
            "         [ 0.2711,  0.4774],\n",
            "         [ 0.2421,  0.0694],\n",
            "         [ 0.0000,  0.0000],\n",
            "         [ 0.0000,  0.0000],\n",
            "         [ 0.0000,  0.0000]],\n",
            "\n",
            "        [[ 0.0000,  0.0000],\n",
            "         [ 0.0000,  0.0000],\n",
            "         [ 0.0000,  0.0000],\n",
            "         [ 0.0000,  0.0000],\n",
            "         [ 0.0000,  0.0000],\n",
            "         [ 0.0000,  0.0000],\n",
            "         [ 0.0000,  0.0000],\n",
            "         [ 0.0000,  0.0000]],\n",
            "\n",
            "        [[ 0.0000,  0.0000],\n",
            "         [ 0.0000,  0.0000],\n",
            "         [ 0.0000,  0.0000],\n",
            "         [ 0.0000,  0.0000],\n",
            "         [ 0.0000,  0.0000],\n",
            "         [ 0.0000,  0.0000],\n",
            "         [ 0.0000,  0.0000],\n",
            "         [ 0.0000,  0.0000]]])\n",
            "xprev: tensor([[ 1.3488, -0.1396],\n",
            "        [ 0.2858,  0.9651],\n",
            "        [-2.0371,  0.4931],\n",
            "        [ 1.4870,  0.5910],\n",
            "        [ 0.1260, -1.5627],\n",
            "        [-1.1601, -0.3348]])\n",
            "xbow: tensor([[[ 0.1808, -0.0700],\n",
            "         [-0.0894, -0.4926],\n",
            "         [ 0.1490, -0.3199],\n",
            "         [ 0.3504, -0.2238],\n",
            "         [ 0.3525,  0.0545],\n",
            "         [ 0.0688, -0.0396],\n",
            "         [ 0.0927, -0.0682],\n",
            "         [-0.0341,  0.1332]],\n",
            "\n",
            "        [[ 1.3488, -0.1396],\n",
            "         [ 0.8173,  0.4127],\n",
            "         [-0.1342,  0.4395],\n",
            "         [ 0.2711,  0.4774],\n",
            "         [ 0.2421,  0.0694],\n",
            "         [ 0.0084,  0.0020],\n",
            "         [ 0.0000,  0.0000],\n",
            "         [ 0.0000,  0.0000]],\n",
            "\n",
            "        [[ 0.0000,  0.0000],\n",
            "         [ 0.0000,  0.0000],\n",
            "         [ 0.0000,  0.0000],\n",
            "         [ 0.0000,  0.0000],\n",
            "         [ 0.0000,  0.0000],\n",
            "         [ 0.0000,  0.0000],\n",
            "         [ 0.0000,  0.0000],\n",
            "         [ 0.0000,  0.0000]],\n",
            "\n",
            "        [[ 0.0000,  0.0000],\n",
            "         [ 0.0000,  0.0000],\n",
            "         [ 0.0000,  0.0000],\n",
            "         [ 0.0000,  0.0000],\n",
            "         [ 0.0000,  0.0000],\n",
            "         [ 0.0000,  0.0000],\n",
            "         [ 0.0000,  0.0000],\n",
            "         [ 0.0000,  0.0000]]])\n",
            "xprev: tensor([[ 1.3488, -0.1396],\n",
            "        [ 0.2858,  0.9651],\n",
            "        [-2.0371,  0.4931],\n",
            "        [ 1.4870,  0.5910],\n",
            "        [ 0.1260, -1.5627],\n",
            "        [-1.1601, -0.3348],\n",
            "        [ 0.4478, -0.8016]])\n",
            "xbow: tensor([[[ 0.1808, -0.0700],\n",
            "         [-0.0894, -0.4926],\n",
            "         [ 0.1490, -0.3199],\n",
            "         [ 0.3504, -0.2238],\n",
            "         [ 0.3525,  0.0545],\n",
            "         [ 0.0688, -0.0396],\n",
            "         [ 0.0927, -0.0682],\n",
            "         [-0.0341,  0.1332]],\n",
            "\n",
            "        [[ 1.3488, -0.1396],\n",
            "         [ 0.8173,  0.4127],\n",
            "         [-0.1342,  0.4395],\n",
            "         [ 0.2711,  0.4774],\n",
            "         [ 0.2421,  0.0694],\n",
            "         [ 0.0084,  0.0020],\n",
            "         [ 0.0712, -0.1128],\n",
            "         [ 0.0000,  0.0000]],\n",
            "\n",
            "        [[ 0.0000,  0.0000],\n",
            "         [ 0.0000,  0.0000],\n",
            "         [ 0.0000,  0.0000],\n",
            "         [ 0.0000,  0.0000],\n",
            "         [ 0.0000,  0.0000],\n",
            "         [ 0.0000,  0.0000],\n",
            "         [ 0.0000,  0.0000],\n",
            "         [ 0.0000,  0.0000]],\n",
            "\n",
            "        [[ 0.0000,  0.0000],\n",
            "         [ 0.0000,  0.0000],\n",
            "         [ 0.0000,  0.0000],\n",
            "         [ 0.0000,  0.0000],\n",
            "         [ 0.0000,  0.0000],\n",
            "         [ 0.0000,  0.0000],\n",
            "         [ 0.0000,  0.0000],\n",
            "         [ 0.0000,  0.0000]]])\n",
            "xprev: tensor([[ 1.3488, -0.1396],\n",
            "        [ 0.2858,  0.9651],\n",
            "        [-2.0371,  0.4931],\n",
            "        [ 1.4870,  0.5910],\n",
            "        [ 0.1260, -1.5627],\n",
            "        [-1.1601, -0.3348],\n",
            "        [ 0.4478, -0.8016],\n",
            "        [ 1.5236,  2.5086]])\n",
            "xbow: tensor([[[ 0.1808, -0.0700],\n",
            "         [-0.0894, -0.4926],\n",
            "         [ 0.1490, -0.3199],\n",
            "         [ 0.3504, -0.2238],\n",
            "         [ 0.3525,  0.0545],\n",
            "         [ 0.0688, -0.0396],\n",
            "         [ 0.0927, -0.0682],\n",
            "         [-0.0341,  0.1332]],\n",
            "\n",
            "        [[ 1.3488, -0.1396],\n",
            "         [ 0.8173,  0.4127],\n",
            "         [-0.1342,  0.4395],\n",
            "         [ 0.2711,  0.4774],\n",
            "         [ 0.2421,  0.0694],\n",
            "         [ 0.0084,  0.0020],\n",
            "         [ 0.0712, -0.1128],\n",
            "         [ 0.2527,  0.2149]],\n",
            "\n",
            "        [[ 0.0000,  0.0000],\n",
            "         [ 0.0000,  0.0000],\n",
            "         [ 0.0000,  0.0000],\n",
            "         [ 0.0000,  0.0000],\n",
            "         [ 0.0000,  0.0000],\n",
            "         [ 0.0000,  0.0000],\n",
            "         [ 0.0000,  0.0000],\n",
            "         [ 0.0000,  0.0000]],\n",
            "\n",
            "        [[ 0.0000,  0.0000],\n",
            "         [ 0.0000,  0.0000],\n",
            "         [ 0.0000,  0.0000],\n",
            "         [ 0.0000,  0.0000],\n",
            "         [ 0.0000,  0.0000],\n",
            "         [ 0.0000,  0.0000],\n",
            "         [ 0.0000,  0.0000],\n",
            "         [ 0.0000,  0.0000]]])\n",
            "xprev: tensor([[-0.6631, -0.2513]])\n",
            "xbow: tensor([[[ 0.1808, -0.0700],\n",
            "         [-0.0894, -0.4926],\n",
            "         [ 0.1490, -0.3199],\n",
            "         [ 0.3504, -0.2238],\n",
            "         [ 0.3525,  0.0545],\n",
            "         [ 0.0688, -0.0396],\n",
            "         [ 0.0927, -0.0682],\n",
            "         [-0.0341,  0.1332]],\n",
            "\n",
            "        [[ 1.3488, -0.1396],\n",
            "         [ 0.8173,  0.4127],\n",
            "         [-0.1342,  0.4395],\n",
            "         [ 0.2711,  0.4774],\n",
            "         [ 0.2421,  0.0694],\n",
            "         [ 0.0084,  0.0020],\n",
            "         [ 0.0712, -0.1128],\n",
            "         [ 0.2527,  0.2149]],\n",
            "\n",
            "        [[-0.6631, -0.2513],\n",
            "         [ 0.0000,  0.0000],\n",
            "         [ 0.0000,  0.0000],\n",
            "         [ 0.0000,  0.0000],\n",
            "         [ 0.0000,  0.0000],\n",
            "         [ 0.0000,  0.0000],\n",
            "         [ 0.0000,  0.0000],\n",
            "         [ 0.0000,  0.0000]],\n",
            "\n",
            "        [[ 0.0000,  0.0000],\n",
            "         [ 0.0000,  0.0000],\n",
            "         [ 0.0000,  0.0000],\n",
            "         [ 0.0000,  0.0000],\n",
            "         [ 0.0000,  0.0000],\n",
            "         [ 0.0000,  0.0000],\n",
            "         [ 0.0000,  0.0000],\n",
            "         [ 0.0000,  0.0000]]])\n",
            "xprev: tensor([[-0.6631, -0.2513],\n",
            "        [ 1.0101,  0.1215]])\n",
            "xbow: tensor([[[ 0.1808, -0.0700],\n",
            "         [-0.0894, -0.4926],\n",
            "         [ 0.1490, -0.3199],\n",
            "         [ 0.3504, -0.2238],\n",
            "         [ 0.3525,  0.0545],\n",
            "         [ 0.0688, -0.0396],\n",
            "         [ 0.0927, -0.0682],\n",
            "         [-0.0341,  0.1332]],\n",
            "\n",
            "        [[ 1.3488, -0.1396],\n",
            "         [ 0.8173,  0.4127],\n",
            "         [-0.1342,  0.4395],\n",
            "         [ 0.2711,  0.4774],\n",
            "         [ 0.2421,  0.0694],\n",
            "         [ 0.0084,  0.0020],\n",
            "         [ 0.0712, -0.1128],\n",
            "         [ 0.2527,  0.2149]],\n",
            "\n",
            "        [[-0.6631, -0.2513],\n",
            "         [ 0.1735, -0.0649],\n",
            "         [ 0.0000,  0.0000],\n",
            "         [ 0.0000,  0.0000],\n",
            "         [ 0.0000,  0.0000],\n",
            "         [ 0.0000,  0.0000],\n",
            "         [ 0.0000,  0.0000],\n",
            "         [ 0.0000,  0.0000]],\n",
            "\n",
            "        [[ 0.0000,  0.0000],\n",
            "         [ 0.0000,  0.0000],\n",
            "         [ 0.0000,  0.0000],\n",
            "         [ 0.0000,  0.0000],\n",
            "         [ 0.0000,  0.0000],\n",
            "         [ 0.0000,  0.0000],\n",
            "         [ 0.0000,  0.0000],\n",
            "         [ 0.0000,  0.0000]]])\n",
            "xprev: tensor([[-0.6631, -0.2513],\n",
            "        [ 1.0101,  0.1215],\n",
            "        [ 0.1584,  1.1340]])\n",
            "xbow: tensor([[[ 0.1808, -0.0700],\n",
            "         [-0.0894, -0.4926],\n",
            "         [ 0.1490, -0.3199],\n",
            "         [ 0.3504, -0.2238],\n",
            "         [ 0.3525,  0.0545],\n",
            "         [ 0.0688, -0.0396],\n",
            "         [ 0.0927, -0.0682],\n",
            "         [-0.0341,  0.1332]],\n",
            "\n",
            "        [[ 1.3488, -0.1396],\n",
            "         [ 0.8173,  0.4127],\n",
            "         [-0.1342,  0.4395],\n",
            "         [ 0.2711,  0.4774],\n",
            "         [ 0.2421,  0.0694],\n",
            "         [ 0.0084,  0.0020],\n",
            "         [ 0.0712, -0.1128],\n",
            "         [ 0.2527,  0.2149]],\n",
            "\n",
            "        [[-0.6631, -0.2513],\n",
            "         [ 0.1735, -0.0649],\n",
            "         [ 0.1685,  0.3348],\n",
            "         [ 0.0000,  0.0000],\n",
            "         [ 0.0000,  0.0000],\n",
            "         [ 0.0000,  0.0000],\n",
            "         [ 0.0000,  0.0000],\n",
            "         [ 0.0000,  0.0000]],\n",
            "\n",
            "        [[ 0.0000,  0.0000],\n",
            "         [ 0.0000,  0.0000],\n",
            "         [ 0.0000,  0.0000],\n",
            "         [ 0.0000,  0.0000],\n",
            "         [ 0.0000,  0.0000],\n",
            "         [ 0.0000,  0.0000],\n",
            "         [ 0.0000,  0.0000],\n",
            "         [ 0.0000,  0.0000]]])\n",
            "xprev: tensor([[-0.6631, -0.2513],\n",
            "        [ 1.0101,  0.1215],\n",
            "        [ 0.1584,  1.1340],\n",
            "        [-1.1539, -0.2984]])\n",
            "xbow: tensor([[[ 0.1808, -0.0700],\n",
            "         [-0.0894, -0.4926],\n",
            "         [ 0.1490, -0.3199],\n",
            "         [ 0.3504, -0.2238],\n",
            "         [ 0.3525,  0.0545],\n",
            "         [ 0.0688, -0.0396],\n",
            "         [ 0.0927, -0.0682],\n",
            "         [-0.0341,  0.1332]],\n",
            "\n",
            "        [[ 1.3488, -0.1396],\n",
            "         [ 0.8173,  0.4127],\n",
            "         [-0.1342,  0.4395],\n",
            "         [ 0.2711,  0.4774],\n",
            "         [ 0.2421,  0.0694],\n",
            "         [ 0.0084,  0.0020],\n",
            "         [ 0.0712, -0.1128],\n",
            "         [ 0.2527,  0.2149]],\n",
            "\n",
            "        [[-0.6631, -0.2513],\n",
            "         [ 0.1735, -0.0649],\n",
            "         [ 0.1685,  0.3348],\n",
            "         [-0.1621,  0.1765],\n",
            "         [ 0.0000,  0.0000],\n",
            "         [ 0.0000,  0.0000],\n",
            "         [ 0.0000,  0.0000],\n",
            "         [ 0.0000,  0.0000]],\n",
            "\n",
            "        [[ 0.0000,  0.0000],\n",
            "         [ 0.0000,  0.0000],\n",
            "         [ 0.0000,  0.0000],\n",
            "         [ 0.0000,  0.0000],\n",
            "         [ 0.0000,  0.0000],\n",
            "         [ 0.0000,  0.0000],\n",
            "         [ 0.0000,  0.0000],\n",
            "         [ 0.0000,  0.0000]]])\n",
            "xprev: tensor([[-0.6631, -0.2513],\n",
            "        [ 1.0101,  0.1215],\n",
            "        [ 0.1584,  1.1340],\n",
            "        [-1.1539, -0.2984],\n",
            "        [-0.5075, -0.9239]])\n",
            "xbow: tensor([[[ 0.1808, -0.0700],\n",
            "         [-0.0894, -0.4926],\n",
            "         [ 0.1490, -0.3199],\n",
            "         [ 0.3504, -0.2238],\n",
            "         [ 0.3525,  0.0545],\n",
            "         [ 0.0688, -0.0396],\n",
            "         [ 0.0927, -0.0682],\n",
            "         [-0.0341,  0.1332]],\n",
            "\n",
            "        [[ 1.3488, -0.1396],\n",
            "         [ 0.8173,  0.4127],\n",
            "         [-0.1342,  0.4395],\n",
            "         [ 0.2711,  0.4774],\n",
            "         [ 0.2421,  0.0694],\n",
            "         [ 0.0084,  0.0020],\n",
            "         [ 0.0712, -0.1128],\n",
            "         [ 0.2527,  0.2149]],\n",
            "\n",
            "        [[-0.6631, -0.2513],\n",
            "         [ 0.1735, -0.0649],\n",
            "         [ 0.1685,  0.3348],\n",
            "         [-0.1621,  0.1765],\n",
            "         [-0.2312, -0.0436],\n",
            "         [ 0.0000,  0.0000],\n",
            "         [ 0.0000,  0.0000],\n",
            "         [ 0.0000,  0.0000]],\n",
            "\n",
            "        [[ 0.0000,  0.0000],\n",
            "         [ 0.0000,  0.0000],\n",
            "         [ 0.0000,  0.0000],\n",
            "         [ 0.0000,  0.0000],\n",
            "         [ 0.0000,  0.0000],\n",
            "         [ 0.0000,  0.0000],\n",
            "         [ 0.0000,  0.0000],\n",
            "         [ 0.0000,  0.0000]]])\n",
            "xprev: tensor([[-0.6631, -0.2513],\n",
            "        [ 1.0101,  0.1215],\n",
            "        [ 0.1584,  1.1340],\n",
            "        [-1.1539, -0.2984],\n",
            "        [-0.5075, -0.9239],\n",
            "        [ 0.5467, -1.4948]])\n",
            "xbow: tensor([[[ 0.1808, -0.0700],\n",
            "         [-0.0894, -0.4926],\n",
            "         [ 0.1490, -0.3199],\n",
            "         [ 0.3504, -0.2238],\n",
            "         [ 0.3525,  0.0545],\n",
            "         [ 0.0688, -0.0396],\n",
            "         [ 0.0927, -0.0682],\n",
            "         [-0.0341,  0.1332]],\n",
            "\n",
            "        [[ 1.3488, -0.1396],\n",
            "         [ 0.8173,  0.4127],\n",
            "         [-0.1342,  0.4395],\n",
            "         [ 0.2711,  0.4774],\n",
            "         [ 0.2421,  0.0694],\n",
            "         [ 0.0084,  0.0020],\n",
            "         [ 0.0712, -0.1128],\n",
            "         [ 0.2527,  0.2149]],\n",
            "\n",
            "        [[-0.6631, -0.2513],\n",
            "         [ 0.1735, -0.0649],\n",
            "         [ 0.1685,  0.3348],\n",
            "         [-0.1621,  0.1765],\n",
            "         [-0.2312, -0.0436],\n",
            "         [-0.1015, -0.2855],\n",
            "         [ 0.0000,  0.0000],\n",
            "         [ 0.0000,  0.0000]],\n",
            "\n",
            "        [[ 0.0000,  0.0000],\n",
            "         [ 0.0000,  0.0000],\n",
            "         [ 0.0000,  0.0000],\n",
            "         [ 0.0000,  0.0000],\n",
            "         [ 0.0000,  0.0000],\n",
            "         [ 0.0000,  0.0000],\n",
            "         [ 0.0000,  0.0000],\n",
            "         [ 0.0000,  0.0000]]])\n",
            "xprev: tensor([[-0.6631, -0.2513],\n",
            "        [ 1.0101,  0.1215],\n",
            "        [ 0.1584,  1.1340],\n",
            "        [-1.1539, -0.2984],\n",
            "        [-0.5075, -0.9239],\n",
            "        [ 0.5467, -1.4948],\n",
            "        [-1.2057,  0.5718]])\n",
            "xbow: tensor([[[ 0.1808, -0.0700],\n",
            "         [-0.0894, -0.4926],\n",
            "         [ 0.1490, -0.3199],\n",
            "         [ 0.3504, -0.2238],\n",
            "         [ 0.3525,  0.0545],\n",
            "         [ 0.0688, -0.0396],\n",
            "         [ 0.0927, -0.0682],\n",
            "         [-0.0341,  0.1332]],\n",
            "\n",
            "        [[ 1.3488, -0.1396],\n",
            "         [ 0.8173,  0.4127],\n",
            "         [-0.1342,  0.4395],\n",
            "         [ 0.2711,  0.4774],\n",
            "         [ 0.2421,  0.0694],\n",
            "         [ 0.0084,  0.0020],\n",
            "         [ 0.0712, -0.1128],\n",
            "         [ 0.2527,  0.2149]],\n",
            "\n",
            "        [[-0.6631, -0.2513],\n",
            "         [ 0.1735, -0.0649],\n",
            "         [ 0.1685,  0.3348],\n",
            "         [-0.1621,  0.1765],\n",
            "         [-0.2312, -0.0436],\n",
            "         [-0.1015, -0.2855],\n",
            "         [-0.2593, -0.1630],\n",
            "         [ 0.0000,  0.0000]],\n",
            "\n",
            "        [[ 0.0000,  0.0000],\n",
            "         [ 0.0000,  0.0000],\n",
            "         [ 0.0000,  0.0000],\n",
            "         [ 0.0000,  0.0000],\n",
            "         [ 0.0000,  0.0000],\n",
            "         [ 0.0000,  0.0000],\n",
            "         [ 0.0000,  0.0000],\n",
            "         [ 0.0000,  0.0000]]])\n",
            "xprev: tensor([[-0.6631, -0.2513],\n",
            "        [ 1.0101,  0.1215],\n",
            "        [ 0.1584,  1.1340],\n",
            "        [-1.1539, -0.2984],\n",
            "        [-0.5075, -0.9239],\n",
            "        [ 0.5467, -1.4948],\n",
            "        [-1.2057,  0.5718],\n",
            "        [-0.5974, -0.6937]])\n",
            "xbow: tensor([[[ 0.1808, -0.0700],\n",
            "         [-0.0894, -0.4926],\n",
            "         [ 0.1490, -0.3199],\n",
            "         [ 0.3504, -0.2238],\n",
            "         [ 0.3525,  0.0545],\n",
            "         [ 0.0688, -0.0396],\n",
            "         [ 0.0927, -0.0682],\n",
            "         [-0.0341,  0.1332]],\n",
            "\n",
            "        [[ 1.3488, -0.1396],\n",
            "         [ 0.8173,  0.4127],\n",
            "         [-0.1342,  0.4395],\n",
            "         [ 0.2711,  0.4774],\n",
            "         [ 0.2421,  0.0694],\n",
            "         [ 0.0084,  0.0020],\n",
            "         [ 0.0712, -0.1128],\n",
            "         [ 0.2527,  0.2149]],\n",
            "\n",
            "        [[-0.6631, -0.2513],\n",
            "         [ 0.1735, -0.0649],\n",
            "         [ 0.1685,  0.3348],\n",
            "         [-0.1621,  0.1765],\n",
            "         [-0.2312, -0.0436],\n",
            "         [-0.1015, -0.2855],\n",
            "         [-0.2593, -0.1630],\n",
            "         [-0.3015, -0.2293]],\n",
            "\n",
            "        [[ 0.0000,  0.0000],\n",
            "         [ 0.0000,  0.0000],\n",
            "         [ 0.0000,  0.0000],\n",
            "         [ 0.0000,  0.0000],\n",
            "         [ 0.0000,  0.0000],\n",
            "         [ 0.0000,  0.0000],\n",
            "         [ 0.0000,  0.0000],\n",
            "         [ 0.0000,  0.0000]]])\n",
            "xprev: tensor([[ 1.6455, -0.8030]])\n",
            "xbow: tensor([[[ 0.1808, -0.0700],\n",
            "         [-0.0894, -0.4926],\n",
            "         [ 0.1490, -0.3199],\n",
            "         [ 0.3504, -0.2238],\n",
            "         [ 0.3525,  0.0545],\n",
            "         [ 0.0688, -0.0396],\n",
            "         [ 0.0927, -0.0682],\n",
            "         [-0.0341,  0.1332]],\n",
            "\n",
            "        [[ 1.3488, -0.1396],\n",
            "         [ 0.8173,  0.4127],\n",
            "         [-0.1342,  0.4395],\n",
            "         [ 0.2711,  0.4774],\n",
            "         [ 0.2421,  0.0694],\n",
            "         [ 0.0084,  0.0020],\n",
            "         [ 0.0712, -0.1128],\n",
            "         [ 0.2527,  0.2149]],\n",
            "\n",
            "        [[-0.6631, -0.2513],\n",
            "         [ 0.1735, -0.0649],\n",
            "         [ 0.1685,  0.3348],\n",
            "         [-0.1621,  0.1765],\n",
            "         [-0.2312, -0.0436],\n",
            "         [-0.1015, -0.2855],\n",
            "         [-0.2593, -0.1630],\n",
            "         [-0.3015, -0.2293]],\n",
            "\n",
            "        [[ 1.6455, -0.8030],\n",
            "         [ 0.0000,  0.0000],\n",
            "         [ 0.0000,  0.0000],\n",
            "         [ 0.0000,  0.0000],\n",
            "         [ 0.0000,  0.0000],\n",
            "         [ 0.0000,  0.0000],\n",
            "         [ 0.0000,  0.0000],\n",
            "         [ 0.0000,  0.0000]]])\n",
            "xprev: tensor([[ 1.6455, -0.8030],\n",
            "        [ 1.3514, -0.2759]])\n",
            "xbow: tensor([[[ 0.1808, -0.0700],\n",
            "         [-0.0894, -0.4926],\n",
            "         [ 0.1490, -0.3199],\n",
            "         [ 0.3504, -0.2238],\n",
            "         [ 0.3525,  0.0545],\n",
            "         [ 0.0688, -0.0396],\n",
            "         [ 0.0927, -0.0682],\n",
            "         [-0.0341,  0.1332]],\n",
            "\n",
            "        [[ 1.3488, -0.1396],\n",
            "         [ 0.8173,  0.4127],\n",
            "         [-0.1342,  0.4395],\n",
            "         [ 0.2711,  0.4774],\n",
            "         [ 0.2421,  0.0694],\n",
            "         [ 0.0084,  0.0020],\n",
            "         [ 0.0712, -0.1128],\n",
            "         [ 0.2527,  0.2149]],\n",
            "\n",
            "        [[-0.6631, -0.2513],\n",
            "         [ 0.1735, -0.0649],\n",
            "         [ 0.1685,  0.3348],\n",
            "         [-0.1621,  0.1765],\n",
            "         [-0.2312, -0.0436],\n",
            "         [-0.1015, -0.2855],\n",
            "         [-0.2593, -0.1630],\n",
            "         [-0.3015, -0.2293]],\n",
            "\n",
            "        [[ 1.6455, -0.8030],\n",
            "         [ 1.4985, -0.5395],\n",
            "         [ 0.0000,  0.0000],\n",
            "         [ 0.0000,  0.0000],\n",
            "         [ 0.0000,  0.0000],\n",
            "         [ 0.0000,  0.0000],\n",
            "         [ 0.0000,  0.0000],\n",
            "         [ 0.0000,  0.0000]]])\n",
            "xprev: tensor([[ 1.6455, -0.8030],\n",
            "        [ 1.3514, -0.2759],\n",
            "        [-1.5108,  2.1048]])\n",
            "xbow: tensor([[[ 0.1808, -0.0700],\n",
            "         [-0.0894, -0.4926],\n",
            "         [ 0.1490, -0.3199],\n",
            "         [ 0.3504, -0.2238],\n",
            "         [ 0.3525,  0.0545],\n",
            "         [ 0.0688, -0.0396],\n",
            "         [ 0.0927, -0.0682],\n",
            "         [-0.0341,  0.1332]],\n",
            "\n",
            "        [[ 1.3488, -0.1396],\n",
            "         [ 0.8173,  0.4127],\n",
            "         [-0.1342,  0.4395],\n",
            "         [ 0.2711,  0.4774],\n",
            "         [ 0.2421,  0.0694],\n",
            "         [ 0.0084,  0.0020],\n",
            "         [ 0.0712, -0.1128],\n",
            "         [ 0.2527,  0.2149]],\n",
            "\n",
            "        [[-0.6631, -0.2513],\n",
            "         [ 0.1735, -0.0649],\n",
            "         [ 0.1685,  0.3348],\n",
            "         [-0.1621,  0.1765],\n",
            "         [-0.2312, -0.0436],\n",
            "         [-0.1015, -0.2855],\n",
            "         [-0.2593, -0.1630],\n",
            "         [-0.3015, -0.2293]],\n",
            "\n",
            "        [[ 1.6455, -0.8030],\n",
            "         [ 1.4985, -0.5395],\n",
            "         [ 0.4954,  0.3420],\n",
            "         [ 0.0000,  0.0000],\n",
            "         [ 0.0000,  0.0000],\n",
            "         [ 0.0000,  0.0000],\n",
            "         [ 0.0000,  0.0000],\n",
            "         [ 0.0000,  0.0000]]])\n",
            "xprev: tensor([[ 1.6455, -0.8030],\n",
            "        [ 1.3514, -0.2759],\n",
            "        [-1.5108,  2.1048],\n",
            "        [ 2.7630, -1.7465]])\n",
            "xbow: tensor([[[ 0.1808, -0.0700],\n",
            "         [-0.0894, -0.4926],\n",
            "         [ 0.1490, -0.3199],\n",
            "         [ 0.3504, -0.2238],\n",
            "         [ 0.3525,  0.0545],\n",
            "         [ 0.0688, -0.0396],\n",
            "         [ 0.0927, -0.0682],\n",
            "         [-0.0341,  0.1332]],\n",
            "\n",
            "        [[ 1.3488, -0.1396],\n",
            "         [ 0.8173,  0.4127],\n",
            "         [-0.1342,  0.4395],\n",
            "         [ 0.2711,  0.4774],\n",
            "         [ 0.2421,  0.0694],\n",
            "         [ 0.0084,  0.0020],\n",
            "         [ 0.0712, -0.1128],\n",
            "         [ 0.2527,  0.2149]],\n",
            "\n",
            "        [[-0.6631, -0.2513],\n",
            "         [ 0.1735, -0.0649],\n",
            "         [ 0.1685,  0.3348],\n",
            "         [-0.1621,  0.1765],\n",
            "         [-0.2312, -0.0436],\n",
            "         [-0.1015, -0.2855],\n",
            "         [-0.2593, -0.1630],\n",
            "         [-0.3015, -0.2293]],\n",
            "\n",
            "        [[ 1.6455, -0.8030],\n",
            "         [ 1.4985, -0.5395],\n",
            "         [ 0.4954,  0.3420],\n",
            "         [ 1.0623, -0.1802],\n",
            "         [ 0.0000,  0.0000],\n",
            "         [ 0.0000,  0.0000],\n",
            "         [ 0.0000,  0.0000],\n",
            "         [ 0.0000,  0.0000]]])\n",
            "xprev: tensor([[ 1.6455, -0.8030],\n",
            "        [ 1.3514, -0.2759],\n",
            "        [-1.5108,  2.1048],\n",
            "        [ 2.7630, -1.7465],\n",
            "        [ 1.4516, -1.5103]])\n",
            "xbow: tensor([[[ 0.1808, -0.0700],\n",
            "         [-0.0894, -0.4926],\n",
            "         [ 0.1490, -0.3199],\n",
            "         [ 0.3504, -0.2238],\n",
            "         [ 0.3525,  0.0545],\n",
            "         [ 0.0688, -0.0396],\n",
            "         [ 0.0927, -0.0682],\n",
            "         [-0.0341,  0.1332]],\n",
            "\n",
            "        [[ 1.3488, -0.1396],\n",
            "         [ 0.8173,  0.4127],\n",
            "         [-0.1342,  0.4395],\n",
            "         [ 0.2711,  0.4774],\n",
            "         [ 0.2421,  0.0694],\n",
            "         [ 0.0084,  0.0020],\n",
            "         [ 0.0712, -0.1128],\n",
            "         [ 0.2527,  0.2149]],\n",
            "\n",
            "        [[-0.6631, -0.2513],\n",
            "         [ 0.1735, -0.0649],\n",
            "         [ 0.1685,  0.3348],\n",
            "         [-0.1621,  0.1765],\n",
            "         [-0.2312, -0.0436],\n",
            "         [-0.1015, -0.2855],\n",
            "         [-0.2593, -0.1630],\n",
            "         [-0.3015, -0.2293]],\n",
            "\n",
            "        [[ 1.6455, -0.8030],\n",
            "         [ 1.4985, -0.5395],\n",
            "         [ 0.4954,  0.3420],\n",
            "         [ 1.0623, -0.1802],\n",
            "         [ 1.1401, -0.4462],\n",
            "         [ 0.0000,  0.0000],\n",
            "         [ 0.0000,  0.0000],\n",
            "         [ 0.0000,  0.0000]]])\n",
            "xprev: tensor([[ 1.6455, -0.8030],\n",
            "        [ 1.3514, -0.2759],\n",
            "        [-1.5108,  2.1048],\n",
            "        [ 2.7630, -1.7465],\n",
            "        [ 1.4516, -1.5103],\n",
            "        [ 0.8212, -0.2115]])\n",
            "xbow: tensor([[[ 0.1808, -0.0700],\n",
            "         [-0.0894, -0.4926],\n",
            "         [ 0.1490, -0.3199],\n",
            "         [ 0.3504, -0.2238],\n",
            "         [ 0.3525,  0.0545],\n",
            "         [ 0.0688, -0.0396],\n",
            "         [ 0.0927, -0.0682],\n",
            "         [-0.0341,  0.1332]],\n",
            "\n",
            "        [[ 1.3488, -0.1396],\n",
            "         [ 0.8173,  0.4127],\n",
            "         [-0.1342,  0.4395],\n",
            "         [ 0.2711,  0.4774],\n",
            "         [ 0.2421,  0.0694],\n",
            "         [ 0.0084,  0.0020],\n",
            "         [ 0.0712, -0.1128],\n",
            "         [ 0.2527,  0.2149]],\n",
            "\n",
            "        [[-0.6631, -0.2513],\n",
            "         [ 0.1735, -0.0649],\n",
            "         [ 0.1685,  0.3348],\n",
            "         [-0.1621,  0.1765],\n",
            "         [-0.2312, -0.0436],\n",
            "         [-0.1015, -0.2855],\n",
            "         [-0.2593, -0.1630],\n",
            "         [-0.3015, -0.2293]],\n",
            "\n",
            "        [[ 1.6455, -0.8030],\n",
            "         [ 1.4985, -0.5395],\n",
            "         [ 0.4954,  0.3420],\n",
            "         [ 1.0623, -0.1802],\n",
            "         [ 1.1401, -0.4462],\n",
            "         [ 1.0870, -0.4071],\n",
            "         [ 0.0000,  0.0000],\n",
            "         [ 0.0000,  0.0000]]])\n",
            "xprev: tensor([[ 1.6455, -0.8030],\n",
            "        [ 1.3514, -0.2759],\n",
            "        [-1.5108,  2.1048],\n",
            "        [ 2.7630, -1.7465],\n",
            "        [ 1.4516, -1.5103],\n",
            "        [ 0.8212, -0.2115],\n",
            "        [ 0.7789,  1.5333]])\n",
            "xbow: tensor([[[ 0.1808, -0.0700],\n",
            "         [-0.0894, -0.4926],\n",
            "         [ 0.1490, -0.3199],\n",
            "         [ 0.3504, -0.2238],\n",
            "         [ 0.3525,  0.0545],\n",
            "         [ 0.0688, -0.0396],\n",
            "         [ 0.0927, -0.0682],\n",
            "         [-0.0341,  0.1332]],\n",
            "\n",
            "        [[ 1.3488, -0.1396],\n",
            "         [ 0.8173,  0.4127],\n",
            "         [-0.1342,  0.4395],\n",
            "         [ 0.2711,  0.4774],\n",
            "         [ 0.2421,  0.0694],\n",
            "         [ 0.0084,  0.0020],\n",
            "         [ 0.0712, -0.1128],\n",
            "         [ 0.2527,  0.2149]],\n",
            "\n",
            "        [[-0.6631, -0.2513],\n",
            "         [ 0.1735, -0.0649],\n",
            "         [ 0.1685,  0.3348],\n",
            "         [-0.1621,  0.1765],\n",
            "         [-0.2312, -0.0436],\n",
            "         [-0.1015, -0.2855],\n",
            "         [-0.2593, -0.1630],\n",
            "         [-0.3015, -0.2293]],\n",
            "\n",
            "        [[ 1.6455, -0.8030],\n",
            "         [ 1.4985, -0.5395],\n",
            "         [ 0.4954,  0.3420],\n",
            "         [ 1.0623, -0.1802],\n",
            "         [ 1.1401, -0.4462],\n",
            "         [ 1.0870, -0.4071],\n",
            "         [ 1.0430, -0.1299],\n",
            "         [ 0.0000,  0.0000]]])\n",
            "xprev: tensor([[ 1.6455, -0.8030],\n",
            "        [ 1.3514, -0.2759],\n",
            "        [-1.5108,  2.1048],\n",
            "        [ 2.7630, -1.7465],\n",
            "        [ 1.4516, -1.5103],\n",
            "        [ 0.8212, -0.2115],\n",
            "        [ 0.7789,  1.5333],\n",
            "        [ 1.6097, -0.4032]])\n",
            "xbow: tensor([[[ 0.1808, -0.0700],\n",
            "         [-0.0894, -0.4926],\n",
            "         [ 0.1490, -0.3199],\n",
            "         [ 0.3504, -0.2238],\n",
            "         [ 0.3525,  0.0545],\n",
            "         [ 0.0688, -0.0396],\n",
            "         [ 0.0927, -0.0682],\n",
            "         [-0.0341,  0.1332]],\n",
            "\n",
            "        [[ 1.3488, -0.1396],\n",
            "         [ 0.8173,  0.4127],\n",
            "         [-0.1342,  0.4395],\n",
            "         [ 0.2711,  0.4774],\n",
            "         [ 0.2421,  0.0694],\n",
            "         [ 0.0084,  0.0020],\n",
            "         [ 0.0712, -0.1128],\n",
            "         [ 0.2527,  0.2149]],\n",
            "\n",
            "        [[-0.6631, -0.2513],\n",
            "         [ 0.1735, -0.0649],\n",
            "         [ 0.1685,  0.3348],\n",
            "         [-0.1621,  0.1765],\n",
            "         [-0.2312, -0.0436],\n",
            "         [-0.1015, -0.2855],\n",
            "         [-0.2593, -0.1630],\n",
            "         [-0.3015, -0.2293]],\n",
            "\n",
            "        [[ 1.6455, -0.8030],\n",
            "         [ 1.4985, -0.5395],\n",
            "         [ 0.4954,  0.3420],\n",
            "         [ 1.0623, -0.1802],\n",
            "         [ 1.1401, -0.4462],\n",
            "         [ 1.0870, -0.4071],\n",
            "         [ 1.0430, -0.1299],\n",
            "         [ 1.1138, -0.1641]]])\n"
          ]
        }
      ]
    },
    {
      "cell_type": "code",
      "source": [
        "# version 2: using matrix multiply for a weighted aggregation\n",
        "\n",
        "wei = torch.tril(torch.ones(T, T))\n",
        "wei = wei / wei.sum(1, keepdim=True)\n",
        "xbow2 = wei @ x # (B, T, T) @ (B, T, C) ----> (B, T, C)\n",
        "torch.allclose(xbow, xbow2)  # xbow와 xbow2 두 텐서가 거의 같은지 비교"
      ],
      "metadata": {
        "colab": {
          "base_uri": "https://localhost:8080/"
        },
        "id": "yhdOAd6-wXkZ",
        "outputId": "2531affb-649c-4d0e-cf54-8842739730dc"
      },
      "execution_count": 50,
      "outputs": [
        {
          "output_type": "execute_result",
          "data": {
            "text/plain": [
              "False"
            ]
          },
          "metadata": {},
          "execution_count": 50
        }
      ]
    },
    {
      "cell_type": "markdown",
      "source": [
        "- torch.allclose 예시 코드"
      ],
      "metadata": {
        "id": "yWI1E1CG8gHg"
      }
    },
    {
      "cell_type": "code",
      "source": [
        "import torch\n",
        "\n",
        "# 두 텐서를 생성합니다.\n",
        "a = torch.tensor([1.0, 2.0, 3.0])\n",
        "b = torch.tensor([1.0, 2.00001, 3.0])\n",
        "\n",
        "# 두 텐서의 값이 거의 같은지 비교합니다.\n",
        "result = torch.allclose(a, b)\n",
        "print(result)  # True, 허용 오차 내에서 거의 같습니다.\n"
      ],
      "metadata": {
        "colab": {
          "base_uri": "https://localhost:8080/"
        },
        "id": "xCS063gx8iw5",
        "outputId": "d0c14e8c-0caa-41fe-d2f9-a48fffe34536"
      },
      "execution_count": 51,
      "outputs": [
        {
          "output_type": "stream",
          "name": "stdout",
          "text": [
            "True\n"
          ]
        }
      ]
    },
    {
      "cell_type": "markdown",
      "source": [
        "- masked_fill: 주어진 텐서에서 마스크(mask)가 True인 위치를 특정 값으로 채우는 함수, 특정 요소를 마스킹하고 다른 값으로 대체\n",
        "-  소프트맥스 결과가 하삼각 행렬 부분만을 고려하도록 함"
      ],
      "metadata": {
        "id": "pbyxsWBC9AOr"
      }
    },
    {
      "cell_type": "code",
      "source": [
        "# version 3: use Softmax\n",
        "tril = torch.tril(torch.ones(T, T))\n",
        "wei = torch.zeros((T,T))\n",
        "wei = wei.masked_fill(tril == 0, float('-inf')) # tril == 0 조건을 사용하여 상삼각 행렬(하삼각 행렬이 아닌 부분)을 찾음\n",
        "wei = F.softmax(wei, dim=-1)\n",
        "xbow3 = wei @ x\n",
        "torch.allclose(xbow, xbow3)\n"
      ],
      "metadata": {
        "colab": {
          "base_uri": "https://localhost:8080/"
        },
        "id": "wOURrfG-ysoL",
        "outputId": "f5e7b1bc-5871-40f3-b1a9-8dbef37bd9fe"
      },
      "execution_count": 52,
      "outputs": [
        {
          "output_type": "execute_result",
          "data": {
            "text/plain": [
              "False"
            ]
          },
          "metadata": {},
          "execution_count": 52
        }
      ]
    },
    {
      "cell_type": "code",
      "source": [
        "# version 4: self-attention!\n",
        "torch.manual_seed(1337)\n",
        "B,T,C = 4,8,32 # batch, time, channels\n",
        "x = torch.randn(B,T,C)\n",
        "\n",
        "# let's see a single Head perform self-attention\n",
        "head_size = 16\n",
        "key = nn.Linear(C, head_size, bias=False)\n",
        "query = nn.Linear(C, head_size, bias=False)\n",
        "value = nn.Linear(C, head_size, bias=False)\n",
        "k = key(x)   # (B, T, 16)\n",
        "q = query(x) # (B, T, 16)\n",
        "wei =  q @ k.transpose(-2, -1) # (B, T, 16) @ (B, 16, T) ---> (B, T, T)\n",
        "\n",
        "tril = torch.tril(torch.ones(T, T))\n",
        "print(\"tril: \", tril.shape)\n",
        "#wei = torch.zeros((T,T))\n",
        "wei = wei.masked_fill(tril == 0, float('-inf'))\n",
        "wei = F.softmax(wei, dim=-1)\n",
        "print(\"wei:\",wei.shape)\n",
        "\n",
        "v = value(x)\n",
        "out = wei @ v\n",
        "#out = wei @ x\n",
        "\n",
        "out.shape"
      ],
      "metadata": {
        "colab": {
          "base_uri": "https://localhost:8080/"
        },
        "id": "EDarxEWIRMKq",
        "outputId": "89bde91a-840c-4ed6-d0ba-8d286ce01c9f"
      },
      "execution_count": 59,
      "outputs": [
        {
          "output_type": "stream",
          "name": "stdout",
          "text": [
            "tril:  torch.Size([8, 8])\n",
            "wei: torch.Size([4, 8, 8])\n"
          ]
        },
        {
          "output_type": "execute_result",
          "data": {
            "text/plain": [
              "torch.Size([4, 8, 16])"
            ]
          },
          "metadata": {},
          "execution_count": 59
        }
      ]
    },
    {
      "cell_type": "code",
      "source": [
        "wei[0]"
      ],
      "metadata": {
        "colab": {
          "base_uri": "https://localhost:8080/"
        },
        "id": "vT1hdtzXCjgL",
        "outputId": "db70496c-0ce9-44d5-e362-1f1c8c515263"
      },
      "execution_count": 54,
      "outputs": [
        {
          "output_type": "execute_result",
          "data": {
            "text/plain": [
              "tensor([[1.0000, 0.0000, 0.0000, 0.0000, 0.0000, 0.0000, 0.0000, 0.0000],\n",
              "        [0.1574, 0.8426, 0.0000, 0.0000, 0.0000, 0.0000, 0.0000, 0.0000],\n",
              "        [0.2088, 0.1646, 0.6266, 0.0000, 0.0000, 0.0000, 0.0000, 0.0000],\n",
              "        [0.5792, 0.1187, 0.1889, 0.1131, 0.0000, 0.0000, 0.0000, 0.0000],\n",
              "        [0.0294, 0.1052, 0.0469, 0.0276, 0.7909, 0.0000, 0.0000, 0.0000],\n",
              "        [0.0176, 0.2689, 0.0215, 0.0089, 0.6812, 0.0019, 0.0000, 0.0000],\n",
              "        [0.1691, 0.4066, 0.0438, 0.0416, 0.1048, 0.2012, 0.0329, 0.0000],\n",
              "        [0.0210, 0.0843, 0.0555, 0.2297, 0.0573, 0.0709, 0.2423, 0.2391]],\n",
              "       grad_fn=<SelectBackward0>)"
            ]
          },
          "metadata": {},
          "execution_count": 54
        }
      ]
    },
    {
      "cell_type": "code",
      "source": [
        "wei[0].shape"
      ],
      "metadata": {
        "colab": {
          "base_uri": "https://localhost:8080/"
        },
        "id": "qM7H88Gh-Cv5",
        "outputId": "05ba6e38-8e76-4789-b5b0-d5928b12447d"
      },
      "execution_count": 55,
      "outputs": [
        {
          "output_type": "execute_result",
          "data": {
            "text/plain": [
              "torch.Size([8, 8])"
            ]
          },
          "metadata": {},
          "execution_count": 55
        }
      ]
    },
    {
      "cell_type": "markdown",
      "source": [
        "Notes:\n",
        "- Attention is a **communication mechanism**. Can be seen as nodes in a directed graph looking at each other and aggregating information with a weighted sum from all nodes that point to them, with data-dependent weights.\n",
        "- There is no notion of space. Attention simply acts over a set of vectors. This is why we need to positionally encode tokens.\n",
        "- Each example across batch dimension is of course processed completely independently and never \"talk\" to each other\n",
        "- In an \"encoder\" attention block just delete the single line that does masking with `tril`, allowing all tokens to communicate. This block here is called a \"decoder\" attention block because it has triangular masking, and is usually used in autoregressive settings, like language modeling.\n",
        "- \"self-attention\" just means that the keys and values are produced from the same source as queries. In \"cross-attention\", the queries still get produced from x, but the keys and values come from some other, external source (e.g. an encoder module)\n",
        "- \"Scaled\" attention additional divides `wei` by 1/sqrt(head_size). This makes it so when input Q,K are unit variance, wei will be unit variance too and Softmax will stay diffuse and not saturate too much. Illustration below"
      ],
      "metadata": {
        "id": "M5CvobiQ0pLr"
      }
    },
    {
      "cell_type": "markdown",
      "source": [
        "**Notes:**\n",
        "\n",
        "- **Attention은 커뮤니케이션 메커니즘입니다.** 이를 방향성 그래프의 노드로 볼 수 있으며, 각 노드는 서로를 바라보고 데이터를 기반으로 가중 합을 통해 정보를 집계합니다.\n",
        "- **공간의 개념이 없습니다.** Attention은 단순히 벡터 집합에 대해 동작합니다. 그래서 토큰을 위치적으로 인코딩해야 합니다.\n",
        "- **배치 차원의 각 예시는 완전히 독립적으로 처리되며 서로 \"대화\"하지 않습니다.**\n",
        "- \"인코더\" attention 블록에서는 `tril`을 사용하여 마스킹하는 단일 라인을 삭제하여 모든 토큰이 서로 커뮤니케이션할 수 있도록 합니다. 여기 있는 블록은 삼각형 마스킹을 가지고 있어 \"디코더\" attention 블록이라 불리며, 주로 언어 모델링과 같은 자회귀 설정에 사용됩니다.\n",
        "- **\"self-attention\"**은 쿼리와 키 및 값이 동일한 소스에서 생성된다는 것을 의미합니다. \"cross-attention\"에서는 쿼리는 여전히 `x`에서 생성되지만, 키와 값은 다른 외부 소스(예: 인코더 모듈)에서 옵니다.\n",
        "- **\"Scaled\" attention**은 추가로 `wei`를 `1/sqrt(head_size)`로 나눕니다. 이렇게 하면 입력 Q와 K가 단위 분산을 가질 때 `wei`도 단위 분산을 가지며, 소프트맥스가 너무 포화되지 않고 분산된 상태를 유지하게 됩니다.\n",
        "\n",
        "---\n",
        "\n",
        "이 설명은 Attention 메커니즘의 기본 개념과 이를 구현하는 방법, 그리고 Self-Attention과 Cross-Attention의 차이점을 다룹니다. 또한, Scaled Attention의 필요성과 이를 구현하는 방법에 대해 설명합니다."
      ],
      "metadata": {
        "id": "9Rq1fk2LD_Rc"
      }
    },
    {
      "cell_type": "code",
      "source": [
        "k = torch.randn(B,T,head_size)\n",
        "q = torch.randn(B,T,head_size)\n",
        "wei = q @ k.transpose(-2, -1) * head_size**-0.5 # Query와 Key의 내적을 구한 후 head_size의 제곱근으로 나눔\n",
        "# Query와 Key 간의 유사성을 나타낸 후 스케일링 함: 소프트맥스 함수의 입력값이 지나치게 크지 않도록 조정하여 계산의 안정성과 정확성을 높여줌"
      ],
      "metadata": {
        "id": "4SNbLq5z3oBw"
      },
      "execution_count": 76,
      "outputs": []
    },
    {
      "cell_type": "markdown",
      "source": [
        "- k,q,wei 분산 계산\n",
        " - 모든 요소를 하나의 집합으로 간주하여 전체 분산을 계산"
      ],
      "metadata": {
        "id": "MoPjx3mgE87E"
      }
    },
    {
      "cell_type": "code",
      "source": [
        "## 예시\n",
        "import torch\n",
        "\n",
        "# 4x8x2 텐서를 임의의 값으로 초기화합니다.\n",
        "a = torch.randn(2, 3, 2)\n",
        "\n",
        "# k 텐서의 분산을 계산합니다.\n",
        "variance = a.var()\n",
        "print(variance)\n"
      ],
      "metadata": {
        "colab": {
          "base_uri": "https://localhost:8080/"
        },
        "id": "ybLhfLDaFHXO",
        "outputId": "19c3739b-aee4-429c-b8a8-31f57b08b167"
      },
      "execution_count": 73,
      "outputs": [
        {
          "output_type": "stream",
          "name": "stdout",
          "text": [
            "tensor(1.7791)\n"
          ]
        }
      ]
    },
    {
      "cell_type": "code",
      "source": [
        "a"
      ],
      "metadata": {
        "colab": {
          "base_uri": "https://localhost:8080/"
        },
        "id": "HCLIc5MAFteL",
        "outputId": "bf5cf37c-088a-435f-dfb2-8a35a8cd52a8"
      },
      "execution_count": 75,
      "outputs": [
        {
          "output_type": "execute_result",
          "data": {
            "text/plain": [
              "tensor([[[-1.4875, -0.2232],\n",
              "         [ 0.3911, -1.0279],\n",
              "         [-0.4114, -0.1948]],\n",
              "\n",
              "        [[ 2.2010,  1.4921],\n",
              "         [-0.2110,  1.0472],\n",
              "         [-2.2158, -1.8080]]])"
            ]
          },
          "metadata": {},
          "execution_count": 75
        }
      ]
    },
    {
      "cell_type": "code",
      "source": [
        "# 첫 번째 차원에 대한 분산을 계산합니다. 각 값에서 평균을 뺀 값의 제곱의 평균\n",
        "variance_dim0 = a.var(dim=0)\n",
        "print(variance_dim0)\n"
      ],
      "metadata": {
        "colab": {
          "base_uri": "https://localhost:8080/"
        },
        "id": "UcRFnlr5FTnD",
        "outputId": "efdd192f-7e65-4a28-f251-17f1885a1fc1"
      },
      "execution_count": 74,
      "outputs": [
        {
          "output_type": "stream",
          "name": "stdout",
          "text": [
            "tensor([[6.8026, 1.4712],\n",
            "        [0.1813, 2.1529],\n",
            "        [1.6280, 1.3013]])\n"
          ]
        }
      ]
    },
    {
      "cell_type": "code",
      "source": [
        "k.var()"
      ],
      "metadata": {
        "colab": {
          "base_uri": "https://localhost:8080/"
        },
        "id": "Nl6I9n9IRTSo",
        "outputId": "60b88d96-4d17-46da-9d77-adf5c605ff0c"
      },
      "execution_count": 77,
      "outputs": [
        {
          "output_type": "execute_result",
          "data": {
            "text/plain": [
              "tensor(1.0004)"
            ]
          },
          "metadata": {},
          "execution_count": 77
        }
      ]
    },
    {
      "cell_type": "code",
      "source": [
        "q.var()"
      ],
      "metadata": {
        "colab": {
          "base_uri": "https://localhost:8080/"
        },
        "id": "T1tQx7oeRvtc",
        "outputId": "f919223c-a57d-4ee1-b93f-01907d99f111"
      },
      "execution_count": 78,
      "outputs": [
        {
          "output_type": "execute_result",
          "data": {
            "text/plain": [
              "tensor(1.0447)"
            ]
          },
          "metadata": {},
          "execution_count": 78
        }
      ]
    },
    {
      "cell_type": "code",
      "source": [
        "wei.var()"
      ],
      "metadata": {
        "colab": {
          "base_uri": "https://localhost:8080/"
        },
        "id": "MLb_odHU3iKM",
        "outputId": "75cbb99d-77c5-402c-c531-6b94591d34aa"
      },
      "execution_count": 79,
      "outputs": [
        {
          "output_type": "execute_result",
          "data": {
            "text/plain": [
              "tensor(0.9695)"
            ]
          },
          "metadata": {},
          "execution_count": 79
        }
      ]
    },
    {
      "cell_type": "code",
      "source": [
        "torch.softmax(torch.tensor([0.1, -0.2, 0.3, -0.2, 0.5]), dim=-1)"
      ],
      "metadata": {
        "colab": {
          "base_uri": "https://localhost:8080/"
        },
        "id": "JB82yzt44REI",
        "outputId": "d7d1af30-7e6f-4405-8c41-307fd8da8073"
      },
      "execution_count": 80,
      "outputs": [
        {
          "output_type": "execute_result",
          "data": {
            "text/plain": [
              "tensor([0.1925, 0.1426, 0.2351, 0.1426, 0.2872])"
            ]
          },
          "metadata": {},
          "execution_count": 80
        }
      ]
    },
    {
      "cell_type": "code",
      "source": [
        "# 입력 벡터를 8배 스케일링\n",
        "# 입력 값들이 더 커지거나 차이가 더 커지면, 소프트맥스 결과는 더욱 뾰족해지는(peaky) 경향이 있음\n",
        "torch.softmax(torch.tensor([0.1, -0.2, 0.3, -0.2, 0.5])*8, dim=-1) # gets too peaky, converges to one-hot"
      ],
      "metadata": {
        "colab": {
          "base_uri": "https://localhost:8080/"
        },
        "id": "Mpt8569BB9_f",
        "outputId": "803cee51-8fd2-4003-8384-c2262f0636e9"
      },
      "execution_count": 81,
      "outputs": [
        {
          "output_type": "execute_result",
          "data": {
            "text/plain": [
              "tensor([0.0326, 0.0030, 0.1615, 0.0030, 0.8000])"
            ]
          },
          "metadata": {},
          "execution_count": 81
        }
      ]
    },
    {
      "cell_type": "code",
      "source": [
        "class LayerNorm1d: # (used to be BatchNorm1d)\n",
        "  # LayerNorm1d 클래스 정의\n",
        "\n",
        "  def __init__(self, dim, eps=1e-5, momentum=0.1):\n",
        "    # 클래스 초기화 메서드\n",
        "    # dim: 입력 벡터의 차원 수\n",
        "    # eps: 작은 수로, 분산이 0이 되는 것을 방지하기 위해 추가됨\n",
        "    self.eps = eps\n",
        "    # 학습 가능한 파라미터 gamma와 beta 초기화 (각각 1과 0으로 설정)\n",
        "    self.gamma = torch.ones(dim)\n",
        "    self.beta = torch.zeros(dim)\n",
        "\n",
        "  def __call__(self, x):\n",
        "    # 객체를 함수처럼 호출할 때 실행되는 메서드 (forward pass 계산)\n",
        "    # x: 입력 텐서\n",
        "    # 배치의 평균 계산 (각 벡터의 차원별로)\n",
        "    xmean = x.mean(1, keepdim=True) # batch mean\n",
        "    # 배치의 분산 계산 (각 벡터의 차원별로)\n",
        "    xvar = x.var(1, keepdim=True) # batch variance\n",
        "    # 정규화: 평균을 빼고 분산으로 나눠서 유닛 분산으로 만듬\n",
        "    xhat = (x - xmean) / torch.sqrt(xvar + self.eps) # normalize to unit variance\n",
        "    # 정규화된 값에 gamma와 beta를 적용하여 출력 계산\n",
        "    self.out = self.gamma * xhat + self.beta\n",
        "    return self.out\n",
        "\n",
        "  def parameters(self):\n",
        "    # 학습 가능한 파라미터 (gamma와 beta) 반환\n",
        "    return [self.gamma, self.beta]\n",
        "\n",
        "# 난수 시드를 설정하여 재현 가능한 결과를 만듬\n",
        "torch.manual_seed(1337)\n",
        "# LayerNorm1d 모듈을 차원 수 100으로 초기화\n",
        "module = LayerNorm1d(100)\n",
        "# 크기가 (32, 100)인 무작위 텐서 생성 (배치 크기 32, 차원 100)\n",
        "x = torch.randn(32, 100) # batch size 32 of 100-dimensional vectors\n",
        "# 모듈을 호출하여 입력 텐서 x에 대해 정규화 수행\n",
        "x = module(x)\n",
        "# 결과 텐서의 크기 출력\n",
        "x.shape\n"
      ],
      "metadata": {
        "colab": {
          "base_uri": "https://localhost:8080/"
        },
        "id": "2Num7sX9CKOH",
        "outputId": "929ceb78-a639-41d6-aac7-12997b5c93f0"
      },
      "execution_count": null,
      "outputs": [
        {
          "output_type": "execute_result",
          "data": {
            "text/plain": [
              "torch.Size([32, 100])"
            ]
          },
          "metadata": {},
          "execution_count": 32
        }
      ]
    },
    {
      "cell_type": "code",
      "source": [
        "# x의 첫번째 feature에 대한 평균과 표준편차 계산\n",
        "x[:,0].mean(), x[:,0].std() # mean,std of one feature across all batch inputs"
      ],
      "metadata": {
        "colab": {
          "base_uri": "https://localhost:8080/"
        },
        "id": "633T2cmnW1uk",
        "outputId": "7720fa58-0478-4e8a-86a7-502d4cce9443"
      },
      "execution_count": null,
      "outputs": [
        {
          "output_type": "execute_result",
          "data": {
            "text/plain": [
              "(tensor(0.1469), tensor(0.8803))"
            ]
          },
          "metadata": {},
          "execution_count": 33
        }
      ]
    },
    {
      "cell_type": "code",
      "source": [
        "# 첫 번째 샘플의 모든 특성 값에 대한 평균과 표준편차를 계산\n",
        "x[0,:].mean(), x[0,:].std() # mean,std of a single input from the batch, of its features"
      ],
      "metadata": {
        "colab": {
          "base_uri": "https://localhost:8080/"
        },
        "id": "LN9cK9BoXCYb",
        "outputId": "6368ece0-600e-417d-8a91-7c1e5d750ba8"
      },
      "execution_count": null,
      "outputs": [
        {
          "output_type": "execute_result",
          "data": {
            "text/plain": [
              "(tensor(-9.5367e-09), tensor(1.0000))"
            ]
          },
          "metadata": {},
          "execution_count": 34
        }
      ]
    },
    {
      "cell_type": "code",
      "source": [
        "# French to English translation example:\n",
        "\n",
        "# <--------- ENCODE ------------------><--------------- DECODE ----------------->\n",
        "# les réseaux de neurones sont géniaux! <START> neural networks are awesome!<END>\n",
        "\n"
      ],
      "metadata": {
        "id": "dRJH6wM_XFfU"
      },
      "execution_count": null,
      "outputs": []
    },
    {
      "cell_type": "markdown",
      "source": [
        "### Full finished code, for reference\n",
        "\n",
        "You may want to refer directly to the git repo instead though."
      ],
      "metadata": {
        "id": "ZcvKeBXoZFOY"
      }
    },
    {
      "cell_type": "code",
      "source": [
        "context = torch.zeros((1, 1), dtype=torch.long, device=device)\n",
        "context"
      ],
      "metadata": {
        "colab": {
          "base_uri": "https://localhost:8080/"
        },
        "id": "S30dslxGKOiL",
        "outputId": "37555d0a-636c-4e4d-f0c1-896f8885c9f9"
      },
      "execution_count": 83,
      "outputs": [
        {
          "output_type": "execute_result",
          "data": {
            "text/plain": [
              "tensor([[0]])"
            ]
          },
          "metadata": {},
          "execution_count": 83
        }
      ]
    },
    {
      "cell_type": "code",
      "source": [
        "import torch\n",
        "import torch.nn as nn\n",
        "from torch.nn import functional as F\n",
        "\n",
        "# hyperparameters\n",
        "batch_size = 16 # how many independent sequences will we process in parallel?\n",
        "block_size = 32 # what is the maximum context length for predictions?\n",
        "max_iters = 5000\n",
        "eval_interval = 100\n",
        "learning_rate = 1e-3\n",
        "device = 'cuda' if torch.cuda.is_available() else 'cpu'\n",
        "eval_iters = 200\n",
        "n_embd = 64\n",
        "n_head = 4\n",
        "n_layer = 4\n",
        "dropout = 0.0\n",
        "# ------------\n",
        "\n",
        "torch.manual_seed(1337)\n",
        "\n",
        "# wget https://raw.githubusercontent.com/karpathy/char-rnn/master/data/tinyshakespeare/input.txt\n",
        "with open('input.txt', 'r', encoding='utf-8') as f:\n",
        "    text = f.read()\n",
        "\n",
        "# here are all the unique characters that occur in this text\n",
        "chars = sorted(list(set(text)))\n",
        "vocab_size = len(chars)\n",
        "# create a mapping from characters to integers\n",
        "stoi = { ch:i for i,ch in enumerate(chars) }\n",
        "itos = { i:ch for i,ch in enumerate(chars) }\n",
        "encode = lambda s: [stoi[c] for c in s] # encoder: take a string, output a list of integers\n",
        "decode = lambda l: ''.join([itos[i] for i in l]) # decoder: take a list of integers, output a string\n",
        "\n",
        "# Train and test splits\n",
        "data = torch.tensor(encode(text), dtype=torch.long)\n",
        "n = int(0.9*len(data)) # first 90% will be train, rest val\n",
        "train_data = data[:n]\n",
        "val_data = data[n:]\n",
        "\n",
        "# data loading\n",
        "def get_batch(split):\n",
        "    # generate a small batch of data of inputs x and targets y\n",
        "    data = train_data if split == 'train' else val_data\n",
        "    ix = torch.randint(len(data) - block_size, (batch_size,))\n",
        "    x = torch.stack([data[i:i+block_size] for i in ix])\n",
        "    y = torch.stack([data[i+1:i+block_size+1] for i in ix])\n",
        "    x, y = x.to(device), y.to(device)\n",
        "    return x, y\n",
        "\n",
        "@torch.no_grad()\n",
        "def estimate_loss():\n",
        "    out = {}\n",
        "    model.eval()\n",
        "    for split in ['train', 'val']:\n",
        "        losses = torch.zeros(eval_iters)\n",
        "        for k in range(eval_iters):\n",
        "            X, Y = get_batch(split)\n",
        "            logits, loss = model(X, Y)\n",
        "            losses[k] = loss.item()\n",
        "        out[split] = losses.mean()\n",
        "    model.train()\n",
        "    return out\n",
        "\n",
        "class Head(nn.Module):\n",
        "    \"\"\" one head of self-attention \"\"\"\n",
        "\n",
        "    def __init__(self, head_size):\n",
        "        super().__init__()\n",
        "        self.key = nn.Linear(n_embd, head_size, bias=False)\n",
        "        self.query = nn.Linear(n_embd, head_size, bias=False)\n",
        "        self.value = nn.Linear(n_embd, head_size, bias=False)\n",
        "        self.register_buffer('tril', torch.tril(torch.ones(block_size, block_size)))\n",
        "\n",
        "        self.dropout = nn.Dropout(dropout)\n",
        "\n",
        "    def forward(self, x):\n",
        "        B,T,C = x.shape\n",
        "        k = self.key(x)   # (B,T,C)\n",
        "        q = self.query(x) # (B,T,C)\n",
        "        # compute attention scores (\"affinities\")\n",
        "        wei = q @ k.transpose(-2,-1) * C**-0.5 # (B, T, C) @ (B, C, T) -> (B, T, T)\n",
        "        wei = wei.masked_fill(self.tril[:T, :T] == 0, float('-inf')) # (B, T, T)\n",
        "        wei = F.softmax(wei, dim=-1) # (B, T, T)\n",
        "        wei = self.dropout(wei)\n",
        "        # perform the weighted aggregation of the values\n",
        "        v = self.value(x) # (B,T,C)\n",
        "        out = wei @ v # (B, T, T) @ (B, T, C) -> (B, T, C)\n",
        "        return out\n",
        "\n",
        "class MultiHeadAttention(nn.Module):\n",
        "    \"\"\" multiple heads of self-attention in parallel \"\"\"\n",
        "\n",
        "    def __init__(self, num_heads, head_size):\n",
        "        super().__init__()\n",
        "        self.heads = nn.ModuleList([Head(head_size) for _ in range(num_heads)])\n",
        "        self.proj = nn.Linear(n_embd, n_embd)\n",
        "        self.dropout = nn.Dropout(dropout)\n",
        "\n",
        "    def forward(self, x):\n",
        "        out = torch.cat([h(x) for h in self.heads], dim=-1)\n",
        "        out = self.dropout(self.proj(out))\n",
        "        return out\n",
        "\n",
        "class FeedFoward(nn.Module):\n",
        "    \"\"\" a simple linear layer followed by a non-linearity \"\"\"\n",
        "\n",
        "    def __init__(self, n_embd):\n",
        "        super().__init__()\n",
        "        self.net = nn.Sequential(\n",
        "            nn.Linear(n_embd, 4 * n_embd),\n",
        "            nn.ReLU(),\n",
        "            nn.Linear(4 * n_embd, n_embd),\n",
        "            nn.Dropout(dropout),\n",
        "        )\n",
        "\n",
        "    def forward(self, x):\n",
        "        return self.net(x)\n",
        "\n",
        "class Block(nn.Module):\n",
        "    \"\"\" Transformer block: communication followed by computation \"\"\"\n",
        "\n",
        "    def __init__(self, n_embd, n_head):\n",
        "        # n_embd: embedding dimension, n_head: the number of heads we'd like\n",
        "        super().__init__()\n",
        "        head_size = n_embd // n_head\n",
        "        self.sa = MultiHeadAttention(n_head, head_size)\n",
        "        self.ffwd = FeedFoward(n_embd)\n",
        "        self.ln1 = nn.LayerNorm(n_embd)\n",
        "        self.ln2 = nn.LayerNorm(n_embd)\n",
        "\n",
        "    def forward(self, x):\n",
        "        x = x + self.sa(self.ln1(x))\n",
        "        x = x + self.ffwd(self.ln2(x))\n",
        "        return x\n",
        "\n",
        "# super simple bigram model\n",
        "class BigramLanguageModel(nn.Module):\n",
        "\n",
        "    def __init__(self):\n",
        "        super().__init__()\n",
        "        # each token directly reads off the logits for the next token from a lookup table\n",
        "        self.token_embedding_table = nn.Embedding(vocab_size, n_embd)\n",
        "        self.position_embedding_table = nn.Embedding(block_size, n_embd)\n",
        "        self.blocks = nn.Sequential(*[Block(n_embd, n_head=n_head) for _ in range(n_layer)])\n",
        "        self.ln_f = nn.LayerNorm(n_embd) # final layer norm\n",
        "        self.lm_head = nn.Linear(n_embd, vocab_size)\n",
        "\n",
        "    def forward(self, idx, targets=None):\n",
        "        B, T = idx.shape\n",
        "\n",
        "        # idx and targets are both (B,T) tensor of integers\n",
        "        tok_emb = self.token_embedding_table(idx) # (B,T,C)\n",
        "        pos_emb = self.position_embedding_table(torch.arange(T, device=device)) # (T,C)\n",
        "        x = tok_emb + pos_emb # (B,T,C)\n",
        "        x = self.blocks(x) # (B,T,C)\n",
        "        x = self.ln_f(x) # (B,T,C)\n",
        "        logits = self.lm_head(x) # (B,T,vocab_size)\n",
        "\n",
        "        if targets is None:\n",
        "            loss = None\n",
        "        else:\n",
        "            B, T, C = logits.shape\n",
        "            logits = logits.view(B*T, C)\n",
        "            targets = targets.view(B*T)\n",
        "            loss = F.cross_entropy(logits, targets)\n",
        "\n",
        "        return logits, loss\n",
        "\n",
        "    def generate(self, idx, max_new_tokens):\n",
        "        # idx is (B, T) array of indices in the current context\n",
        "        for _ in range(max_new_tokens):\n",
        "            # crop idx to the last block_size tokens\n",
        "            idx_cond = idx[:, -block_size:]\n",
        "            # get the predictions\n",
        "            logits, loss = self(idx_cond)\n",
        "            # focus only on the last time step\n",
        "            logits = logits[:, -1, :] # becomes (B, C)\n",
        "            # apply softmax to get probabilities\n",
        "            probs = F.softmax(logits, dim=-1) # (B, C)\n",
        "            # sample from the distribution\n",
        "            idx_next = torch.multinomial(probs, num_samples=1) # (B, 1)\n",
        "            # append sampled index to the running sequence\n",
        "            idx = torch.cat((idx, idx_next), dim=1) # (B, T+1)\n",
        "        return idx\n",
        "\n",
        "model = BigramLanguageModel()\n",
        "m = model.to(device)\n",
        "# print the number of parameters in the model\n",
        "print(sum(p.numel() for p in m.parameters())/1e6, 'M parameters')\n",
        "\n",
        "# create a PyTorch optimizer\n",
        "optimizer = torch.optim.AdamW(model.parameters(), lr=learning_rate)\n",
        "\n",
        "for iter in range(max_iters):\n",
        "\n",
        "    # every once in a while evaluate the loss on train and val sets\n",
        "    if iter % eval_interval == 0 or iter == max_iters - 1:\n",
        "        losses = estimate_loss()\n",
        "        print(f\"step {iter}: train loss {losses['train']:.4f}, val loss {losses['val']:.4f}\")\n",
        "\n",
        "    # sample a batch of data\n",
        "    xb, yb = get_batch('train')\n",
        "\n",
        "    # evaluate the loss\n",
        "    logits, loss = model(xb, yb)\n",
        "    optimizer.zero_grad(set_to_none=True)\n",
        "    loss.backward()\n",
        "    optimizer.step()\n",
        "\n",
        "# generate from the model\n",
        "context = torch.zeros((1, 1), dtype=torch.long, device=device)\n",
        "print(decode(m.generate(context, max_new_tokens=2000)[0].tolist()))\n"
      ],
      "metadata": {
        "colab": {
          "base_uri": "https://localhost:8080/"
        },
        "id": "hoelkOrFY8bN",
        "outputId": "005e4f59-0f50-4879-c299-8e7ee0338a3d"
      },
      "execution_count": 82,
      "outputs": [
        {
          "output_type": "stream",
          "name": "stdout",
          "text": [
            "0.209729 M parameters\n",
            "step 0: train loss 4.4116, val loss 4.4022\n",
            "step 100: train loss 2.6568, val loss 2.6670\n",
            "step 200: train loss 2.5090, val loss 2.5059\n",
            "step 300: train loss 2.4196, val loss 2.4338\n",
            "step 400: train loss 2.3504, val loss 2.3566\n",
            "step 500: train loss 2.2965, val loss 2.3129\n",
            "step 600: train loss 2.2410, val loss 2.2500\n",
            "step 700: train loss 2.2057, val loss 2.2191\n",
            "step 800: train loss 2.1633, val loss 2.1864\n",
            "step 900: train loss 2.1244, val loss 2.1510\n",
            "step 1000: train loss 2.1038, val loss 2.1308\n",
            "step 1100: train loss 2.0707, val loss 2.1197\n",
            "step 1200: train loss 2.0377, val loss 2.0800\n",
            "step 1300: train loss 2.0268, val loss 2.0650\n",
            "step 1400: train loss 1.9918, val loss 2.0356\n",
            "step 1500: train loss 1.9697, val loss 2.0293\n",
            "step 1600: train loss 1.9645, val loss 2.0499\n",
            "step 1700: train loss 1.9404, val loss 2.0129\n",
            "step 1800: train loss 1.9095, val loss 1.9951\n",
            "step 1900: train loss 1.9067, val loss 1.9855\n",
            "step 2000: train loss 1.8854, val loss 1.9948\n",
            "step 2100: train loss 1.8727, val loss 1.9766\n",
            "step 2200: train loss 1.8597, val loss 1.9631\n",
            "step 2300: train loss 1.8530, val loss 1.9516\n",
            "step 2400: train loss 1.8428, val loss 1.9464\n",
            "step 2500: train loss 1.8161, val loss 1.9424\n",
            "step 2600: train loss 1.8283, val loss 1.9406\n",
            "step 2700: train loss 1.8101, val loss 1.9322\n",
            "step 2800: train loss 1.8050, val loss 1.9233\n",
            "step 2900: train loss 1.8033, val loss 1.9289\n",
            "step 3000: train loss 1.7955, val loss 1.9216\n",
            "step 3100: train loss 1.7697, val loss 1.9184\n",
            "step 3200: train loss 1.7541, val loss 1.9088\n",
            "step 3300: train loss 1.7567, val loss 1.9034\n",
            "step 3400: train loss 1.7573, val loss 1.9000\n",
            "step 3500: train loss 1.7398, val loss 1.8925\n",
            "step 3600: train loss 1.7270, val loss 1.8869\n",
            "step 3700: train loss 1.7283, val loss 1.8814\n",
            "step 3800: train loss 1.7210, val loss 1.8918\n",
            "step 3900: train loss 1.7219, val loss 1.8732\n",
            "step 4000: train loss 1.7146, val loss 1.8576\n",
            "step 4100: train loss 1.7136, val loss 1.8720\n",
            "step 4200: train loss 1.7060, val loss 1.8653\n",
            "step 4300: train loss 1.7032, val loss 1.8499\n",
            "step 4400: train loss 1.7057, val loss 1.8656\n",
            "step 4500: train loss 1.6907, val loss 1.8477\n",
            "step 4600: train loss 1.6878, val loss 1.8371\n",
            "step 4700: train loss 1.6808, val loss 1.8415\n",
            "step 4800: train loss 1.6689, val loss 1.8457\n",
            "step 4900: train loss 1.6716, val loss 1.8415\n",
            "step 4999: train loss 1.6658, val loss 1.8275\n",
            "\n",
            "ROTCUMER:\n",
            "Tyburforth, bloody,\n",
            "WhIs migute: you duke I use list. WIthon of where's grande will! savist tought!\n",
            "Why room upwor alond, liegle. I hone, Iell thou sudd have then strue thus mind,\n",
            "His by blow, Virdom tow, glingien, yithre spees ssince them Those not.\n",
            "\n",
            "LUCIO:\n",
            "Look,----\n",
            "But thou sging them this my freceimmsed,\n",
            "By thou sovor conursion that thou sade but grove\n",
            "the tage encond:\n",
            "It will Rament me; an your touther,\n",
            "And havis like to-does, and little spright.\n",
            "\n",
            "GLOUCESTER:\n",
            "Rewards thou for Panfessira's bigguards such ways!\n",
            "What curfort his\n",
            "will havolss you, as I have the cervirs arled,\n",
            "Dear my love and pitace unto duly son.\n",
            "\n",
            "Secome:\n",
            "Offolk, even thy whose my late all that you by jotly us belies!\n",
            "Lord, we a-montencry! I\n",
            "\n",
            "SLARNE:\n",
            "Day, mave from out prrive And orculing\n",
            "What confess, temimelyour and stropt;\n",
            "Secumfospet the gatieus I'll that confence-sting,\n",
            "But; man't, Rolget\n",
            "would garnion'd live in which, you, prothre?\n",
            "\n",
            "CORIOLANUS:\n",
            "What bonum stravoing, not out be seemmed with\n",
            "That the boly noll to.\n",
            "Bently, which in on my not tomberven why, fortune,\n",
            "And that wark you, banot thus orl'ld groves viles.\n",
            "\n",
            "PUMNIUS:\n",
            "It thou addow less, proth-straing.\n",
            "Mutwing your contrant stomfe, whom they\n",
            "is by this famestle; and of the loves my not Mercarcious to the stord; thesoo, in thus my nome are:\n",
            "Will fuch, have there enplience your gone, ho's,\n",
            "And gentleman, my beged lind to be am\n",
            "in That ant:\n",
            "In I sugner murded! I play's,\n",
            "If not sume the confity will reasur slord:\n",
            "That get because at that his say\n",
            "and to beepts guarst you lom if then.\n",
            "\n",
            "MENEN MARGARUS:\n",
            "I but aftelence! made yoour never.\n",
            "\n",
            "KING RICHARD II:\n",
            "Who too near?\n",
            "\n",
            "LORDIUS:\n",
            "Or as madaw brird, tou thee?\n",
            "\n",
            "Sirightly the haste's beforempt.\n",
            "\n",
            "First:\n",
            "Is though.\n",
            "Fell, whose toes with requmpts, up I make\n",
            "Here figUS verean that I will, by the wateon.\n",
            "\n",
            "MOWIDIUS:\n",
            "How, while, more is in meep.\n",
            "twan be the fless this countrens platcar merperter sure make Giventled,\n",
            "At not your must to reason togs,\n",
            "And what you gue;--\n",
            "\n",
            "RUKE ESFiren; gravent,\n",
            "Apol\n"
          ]
        }
      ]
    }
  ]
}